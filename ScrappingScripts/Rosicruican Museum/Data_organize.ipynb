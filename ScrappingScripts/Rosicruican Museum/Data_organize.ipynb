{
 "cells": [
  {
   "cell_type": "code",
   "execution_count": 208,
   "metadata": {},
   "outputs": [],
   "source": [
    "import pandas as pd \n",
    "import numpy as np\n",
    "import seaborn as sn\n",
    "import matplotlib.pyplot as plt\n",
    "import seaborn as sns\n",
    "import scipy as sp"
   ]
  },
  {
   "cell_type": "code",
   "execution_count": 209,
   "metadata": {},
   "outputs": [],
   "source": [
    "import json\n",
    "import pandas as pd\n",
    "data = json.load(open('data.json',encoding=\"utf8\"))\n",
    "\n",
    "df= pd.DataFrame(data['PageResult']['Items'])[['Id','Title','AdditionalInfo', 'ImageId']]"
   ]
  },
  {
   "cell_type": "code",
   "execution_count": 229,
   "metadata": {},
   "outputs": [
    {
     "data": {
      "text/html": [
       "<div>\n",
       "<style scoped>\n",
       "    .dataframe tbody tr th:only-of-type {\n",
       "        vertical-align: middle;\n",
       "    }\n",
       "\n",
       "    .dataframe tbody tr th {\n",
       "        vertical-align: top;\n",
       "    }\n",
       "\n",
       "    .dataframe thead th {\n",
       "        text-align: right;\n",
       "    }\n",
       "</style>\n",
       "<table border=\"1\" class=\"dataframe\">\n",
       "  <thead>\n",
       "    <tr style=\"text-align: right;\">\n",
       "      <th></th>\n",
       "      <th>Title</th>\n",
       "      <th>Id</th>\n",
       "    </tr>\n",
       "  </thead>\n",
       "  <tbody>\n",
       "    <tr>\n",
       "      <th>0</th>\n",
       "      <td>RC-1 - Sekhmet Statue</td>\n",
       "      <td>3</td>\n",
       "    </tr>\n",
       "    <tr>\n",
       "      <th>1</th>\n",
       "      <td>RC-2 - Harpocrates</td>\n",
       "      <td>4</td>\n",
       "    </tr>\n",
       "    <tr>\n",
       "      <th>2</th>\n",
       "      <td>RC-3 - Osiris</td>\n",
       "      <td>5</td>\n",
       "    </tr>\n",
       "    <tr>\n",
       "      <th>3</th>\n",
       "      <td>RC-4 - Khonsu</td>\n",
       "      <td>6</td>\n",
       "    </tr>\n",
       "    <tr>\n",
       "      <th>4</th>\n",
       "      <td>RC-5 - Apis Bull</td>\n",
       "      <td>7</td>\n",
       "    </tr>\n",
       "    <tr>\n",
       "      <th>...</th>\n",
       "      <td>...</td>\n",
       "      <td>...</td>\n",
       "    </tr>\n",
       "    <tr>\n",
       "      <th>819</th>\n",
       "      <td>RC-297 - Ptah</td>\n",
       "      <td>5460</td>\n",
       "    </tr>\n",
       "    <tr>\n",
       "      <th>820</th>\n",
       "      <td>RC-251 - Rameses Ii Cartouche Fragment</td>\n",
       "      <td>5548</td>\n",
       "    </tr>\n",
       "    <tr>\n",
       "      <th>821</th>\n",
       "      <td>RC-1727 - False Door with Ibis</td>\n",
       "      <td>5550</td>\n",
       "    </tr>\n",
       "    <tr>\n",
       "      <th>822</th>\n",
       "      <td>RC-5187 - Scarab</td>\n",
       "      <td>5560</td>\n",
       "    </tr>\n",
       "    <tr>\n",
       "      <th>823</th>\n",
       "      <td>RC-5195 - Wedjat Eye</td>\n",
       "      <td>5565</td>\n",
       "    </tr>\n",
       "  </tbody>\n",
       "</table>\n",
       "<p>824 rows × 2 columns</p>\n",
       "</div>"
      ],
      "text/plain": [
       "                                      Title    Id\n",
       "0                     RC-1 - Sekhmet Statue     3\n",
       "1                        RC-2 - Harpocrates     4\n",
       "2                             RC-3 - Osiris     5\n",
       "3                             RC-4 - Khonsu     6\n",
       "4                          RC-5 - Apis Bull     7\n",
       "..                                      ...   ...\n",
       "819                           RC-297 - Ptah  5460\n",
       "820  RC-251 - Rameses Ii Cartouche Fragment  5548\n",
       "821          RC-1727 - False Door with Ibis  5550\n",
       "822                        RC-5187 - Scarab  5560\n",
       "823                    RC-5195 - Wedjat Eye  5565\n",
       "\n",
       "[824 rows x 2 columns]"
      ]
     },
     "execution_count": 229,
     "metadata": {},
     "output_type": "execute_result"
    }
   ],
   "source": [
    "df[['Title','Id']]"
   ]
  },
  {
   "cell_type": "code",
   "execution_count": 230,
   "metadata": {},
   "outputs": [],
   "source": [
    "metadata = json.load(open('data/5550.json',encoding=\"utf8\"))\n"
   ]
  },
  {
   "cell_type": "code",
   "execution_count": 231,
   "metadata": {},
   "outputs": [
    {
     "data": {
      "text/plain": [
       "{'Item': {'Title': '',\n",
       "  'CreationDate': '',\n",
       "  'ItemId': 'RC-1727',\n",
       "  'CatalogItemDimension': {'Details': '54.2 X 45.7 X 7.3 CM'},\n",
       "  'CatalogItemTags': [{'DictionaryItem': {'Id': 18679, 'Title': 'Funerary'}}],\n",
       "  'CatalogItemHistory': {'CatalogItemHistoryOrigins': [],\n",
       "   'CatalogItemHistoryMaterials': [{'DictionaryItem': {'Title': 'Limestone'}}]},\n",
       "  'CatalogItemArt': {'Culture': {'Title': 'Egyptian'}},\n",
       "  'CustomFields': [{'StringValue': 'JC/ 35mm/Page 68, Row 4, #34A (Blk/Wht)',\n",
       "    'Metadata': {'ObjectType': 101,\n",
       "     'FieldType': 10,\n",
       "     'Name': 'Photograph',\n",
       "     'Id': 4}},\n",
       "   {'StringValue': 'Grey/ Light Brown/ Dark Brown/ White<br /><br />Text by: David P. Silverman',\n",
       "    'Metadata': {'ObjectType': 101,\n",
       "     'FieldType': 10,\n",
       "     'Name': 'Online Description',\n",
       "     'Id': 5}}],\n",
       "  'ItemName': {'ObjectName': 'False Door with Ibis'}},\n",
       " 'Title': 'RC-1727 - False Door with Ibis',\n",
       " 'ChildItems': [],\n",
       " 'RelatedRecords': [],\n",
       " 'Attachments': [],\n",
       " 'Urls': []}"
      ]
     },
     "execution_count": 231,
     "metadata": {},
     "output_type": "execute_result"
    }
   ],
   "source": [
    "metadata"
   ]
  },
  {
   "cell_type": "code",
   "execution_count": 234,
   "metadata": {},
   "outputs": [
    {
     "data": {
      "text/plain": [
       "'RC-1727 - False Door with Ibis'"
      ]
     },
     "execution_count": 234,
     "metadata": {},
     "output_type": "execute_result"
    }
   ],
   "source": [
    "metadata['Title']"
   ]
  },
  {
   "cell_type": "code",
   "execution_count": 214,
   "metadata": {},
   "outputs": [
    {
     "data": {
      "text/plain": [
       "'Egyptian'"
      ]
     },
     "execution_count": 214,
     "metadata": {},
     "output_type": "execute_result"
    }
   ],
   "source": [
    "metadata['Item']['CatalogItemArt']['Culture']['Title']"
   ]
  },
  {
   "cell_type": "code",
   "execution_count": 215,
   "metadata": {},
   "outputs": [
    {
     "data": {
      "text/plain": [
       "'Photograph'"
      ]
     },
     "execution_count": 215,
     "metadata": {},
     "output_type": "execute_result"
    }
   ],
   "source": [
    "metadata['Item']['CustomFields'][1]['Metadata']['Name']"
   ]
  },
  {
   "cell_type": "code",
   "execution_count": 216,
   "metadata": {},
   "outputs": [
    {
     "data": {
      "text/plain": [
       "'Bronze'"
      ]
     },
     "execution_count": 216,
     "metadata": {},
     "output_type": "execute_result"
    }
   ],
   "source": [
    "metadata['Item']['CatalogItemHistory']['CatalogItemHistoryMaterials'][0]['DictionaryItem']['Title']"
   ]
  },
  {
   "cell_type": "code",
   "execution_count": 217,
   "metadata": {},
   "outputs": [
    {
     "data": {
      "text/plain": [
       "'Sculpture'"
      ]
     },
     "execution_count": 217,
     "metadata": {},
     "output_type": "execute_result"
    }
   ],
   "source": [
    "metadata['Item']['CatalogItemTags'][0]['DictionaryItem']['Title']"
   ]
  },
  {
   "cell_type": "code",
   "execution_count": 235,
   "metadata": {},
   "outputs": [
    {
     "data": {
      "text/plain": [
       "True"
      ]
     },
     "execution_count": 235,
     "metadata": {},
     "output_type": "execute_result"
    }
   ],
   "source": [
    "metadata['Item']['CreationDate'] ==''"
   ]
  },
  {
   "cell_type": "code",
   "execution_count": 219,
   "metadata": {},
   "outputs": [
    {
     "name": "stdout",
     "output_type": "stream",
     "text": [
      "Period\n",
      "Ptolemaic\n"
     ]
    }
   ],
   "source": [
    "print(metadata['Item']['CustomFields'][0]['Metadata']['Name'])\n",
    "print(metadata['Item']['CustomFields'][0]['StringValue'])\n"
   ]
  },
  {
   "cell_type": "code",
   "execution_count": 220,
   "metadata": {},
   "outputs": [],
   "source": [
    "new_data = {\"Title\":[], \"Culture\":[],\"Date\":[],\"Period\":[],\"Material\":[],\"object_Type\":[]}"
   ]
  },
  {
   "cell_type": "code",
   "execution_count": 242,
   "metadata": {},
   "outputs": [],
   "source": [
    "new_data = {\"Title\":[], \"Culture\":[],\"Dynasty\": [],\"Date\":[],\"Period\":[],\"Material\":[],\"object_Type\":[]}\n",
    "\n",
    "for index, row in df.iterrows():\n",
    "    metadata = json.load(open(f'data/{row.Id}.json',encoding=\"utf8\"))\n",
    "    \n",
    "\n",
    "    new_data['Title'].append(metadata['Title'])\n",
    "    \n",
    "    try:\n",
    "        if metadata['Item']['CustomFields'][0]['Metadata']['Name'] == \"Period\":\n",
    "             new_data['Period'].append(metadata['Item']['CustomFields'][0]['StringValue'])\n",
    "        else:\n",
    "            new_data['Period'].append(None)\n",
    "            \n",
    "    except IndexError:\n",
    "         new_data['period'].append(None)\n",
    "    \n",
    "    try:\n",
    "        if metadata['Item']['CustomFields'][1]['Metadata']['Name'] == \"Dynasty\":\n",
    "            new_data['Dynasty'].append(metadata['Item']['CustomFields'][1]['StringValue'])\n",
    "        else:\n",
    "            new_data['Dynasty'].append(None)\n",
    "            \n",
    "    except IndexError:\n",
    "         new_data['Dynasty'].append(None)\n",
    "         \n",
    "         \n",
    "    if metadata['Item']['CreationDate'] =='':\n",
    "        \n",
    "         new_data['Date'].append(None)\n",
    "    else:\n",
    "        new_data['Date'].append(metadata['Item']['CreationDate'])    \n",
    "         \n",
    "    \n",
    "    if metadata['Item']['CatalogItemArt']['Culture'] == None:\n",
    "        new_data['Culture'].append(None)\n",
    "    else:\n",
    "        new_data['Culture'].append(metadata['Item']['CatalogItemArt']['Culture']['Title'])\n",
    "        \n",
    "    \n",
    "    if metadata['Item']['CatalogItemHistory']['CatalogItemHistoryMaterials'] == []:\n",
    "         new_data['Material'].append(None)\n",
    "    else: \n",
    "        new_data['Material'].append(metadata['Item']['CatalogItemHistory']['CatalogItemHistoryMaterials'][0]['DictionaryItem']['Title'])\n",
    "        \n",
    "    \n",
    "    if metadata['Item']['CatalogItemTags'] ==[]:\n",
    "        new_data['object_Type'].append(None)\n",
    "    else:\n",
    "        new_data['object_Type'].append(metadata['Item']['CatalogItemTags'][0]['DictionaryItem']['Title'])\n",
    "    "
   ]
  },
  {
   "cell_type": "code",
   "execution_count": 243,
   "metadata": {},
   "outputs": [
    {
     "data": {
      "text/html": [
       "<div>\n",
       "<style scoped>\n",
       "    .dataframe tbody tr th:only-of-type {\n",
       "        vertical-align: middle;\n",
       "    }\n",
       "\n",
       "    .dataframe tbody tr th {\n",
       "        vertical-align: top;\n",
       "    }\n",
       "\n",
       "    .dataframe thead th {\n",
       "        text-align: right;\n",
       "    }\n",
       "</style>\n",
       "<table border=\"1\" class=\"dataframe\">\n",
       "  <thead>\n",
       "    <tr style=\"text-align: right;\">\n",
       "      <th></th>\n",
       "      <th>Title</th>\n",
       "      <th>Culture</th>\n",
       "      <th>Dynasty</th>\n",
       "      <th>Date</th>\n",
       "      <th>Period</th>\n",
       "      <th>Material</th>\n",
       "      <th>object_Type</th>\n",
       "    </tr>\n",
       "  </thead>\n",
       "  <tbody>\n",
       "    <tr>\n",
       "      <th>0</th>\n",
       "      <td>RC-1 - Sekhmet Statue</td>\n",
       "      <td>Egyptian</td>\n",
       "      <td>None</td>\n",
       "      <td>332-30 BCE</td>\n",
       "      <td>Ptolemaic</td>\n",
       "      <td>Bronze</td>\n",
       "      <td>Sculpture</td>\n",
       "    </tr>\n",
       "    <tr>\n",
       "      <th>1</th>\n",
       "      <td>RC-2 - Harpocrates</td>\n",
       "      <td>Egyptian</td>\n",
       "      <td>None</td>\n",
       "      <td>305 - 30 BCE</td>\n",
       "      <td>Ptolemaic</td>\n",
       "      <td>Bronze</td>\n",
       "      <td>Sculpture</td>\n",
       "    </tr>\n",
       "    <tr>\n",
       "      <th>2</th>\n",
       "      <td>RC-3 - Osiris</td>\n",
       "      <td>Egyptian</td>\n",
       "      <td>None</td>\n",
       "      <td>332 - 31 BCE</td>\n",
       "      <td>Ptolemaic</td>\n",
       "      <td>Bronze</td>\n",
       "      <td>Sculpture</td>\n",
       "    </tr>\n",
       "    <tr>\n",
       "      <th>3</th>\n",
       "      <td>RC-4 - Khonsu</td>\n",
       "      <td>Egyptian</td>\n",
       "      <td>None</td>\n",
       "      <td>332 - 30 BCE</td>\n",
       "      <td>Ptolemaic</td>\n",
       "      <td>Bronze</td>\n",
       "      <td>Sculpture</td>\n",
       "    </tr>\n",
       "    <tr>\n",
       "      <th>4</th>\n",
       "      <td>RC-5 - Apis Bull</td>\n",
       "      <td>Egyptian</td>\n",
       "      <td>None</td>\n",
       "      <td>525 - 343 BCE</td>\n",
       "      <td>Late Period</td>\n",
       "      <td>Bronze</td>\n",
       "      <td>Sculpture</td>\n",
       "    </tr>\n",
       "  </tbody>\n",
       "</table>\n",
       "</div>"
      ],
      "text/plain": [
       "                   Title   Culture Dynasty           Date       Period  \\\n",
       "0  RC-1 - Sekhmet Statue  Egyptian    None     332-30 BCE    Ptolemaic   \n",
       "1     RC-2 - Harpocrates  Egyptian    None   305 - 30 BCE    Ptolemaic   \n",
       "2          RC-3 - Osiris  Egyptian    None   332 - 31 BCE    Ptolemaic   \n",
       "3          RC-4 - Khonsu  Egyptian    None   332 - 30 BCE    Ptolemaic   \n",
       "4       RC-5 - Apis Bull  Egyptian    None  525 - 343 BCE  Late Period   \n",
       "\n",
       "  Material object_Type  \n",
       "0   Bronze   Sculpture  \n",
       "1   Bronze   Sculpture  \n",
       "2   Bronze   Sculpture  \n",
       "3   Bronze   Sculpture  \n",
       "4   Bronze   Sculpture  "
      ]
     },
     "execution_count": 243,
     "metadata": {},
     "output_type": "execute_result"
    }
   ],
   "source": [
    "new_data=pd.DataFrame(new_data)\n",
    "new_data.head()"
   ]
  },
  {
   "cell_type": "code",
   "execution_count": 244,
   "metadata": {},
   "outputs": [
    {
     "data": {
      "text/plain": [
       "<BarContainer object of 25 artists>"
      ]
     },
     "execution_count": 244,
     "metadata": {},
     "output_type": "execute_result"
    },
    {
     "data": {
      "image/png": "[encoded data removed]",
      "text/plain": [
       "<Figure size 1500x500 with 1 Axes>"
      ]
     },
     "metadata": {},
     "output_type": "display_data"
    }
   ],
   "source": [
    "fig = plt.figure(figsize = (15, 5)) \n",
    "plt.xticks(rotation=90)\n",
    "# creating the bar plot \n",
    "plt.bar(new_data['Period'].value_counts().index[:25], new_data['Period'].value_counts().values[:25], width = 0.7) "
   ]
  },
  {
   "cell_type": "code",
   "execution_count": 245,
   "metadata": {},
   "outputs": [
    {
     "data": {
      "text/plain": [
       "<BarContainer object of 25 artists>"
      ]
     },
     "execution_count": 245,
     "metadata": {},
     "output_type": "execute_result"
    },
    {
     "data": {
      "image/png": "[encoded data removed]",
      "text/plain": [
       "<Figure size 1500x500 with 1 Axes>"
      ]
     },
     "metadata": {},
     "output_type": "display_data"
    }
   ],
   "source": [
    "fig = plt.figure(figsize = (15, 5)) \n",
    "plt.xticks(rotation=90)\n",
    "# creating the bar plot \n",
    "plt.bar(new_data['Date'].value_counts().index[:25], new_data['Date'].value_counts().values[:25], width = 0.7) "
   ]
  },
  {
   "cell_type": "code",
   "execution_count": 252,
   "metadata": {},
   "outputs": [
    {
     "data": {
      "text/html": [
       "<div>\n",
       "<style scoped>\n",
       "    .dataframe tbody tr th:only-of-type {\n",
       "        vertical-align: middle;\n",
       "    }\n",
       "\n",
       "    .dataframe tbody tr th {\n",
       "        vertical-align: top;\n",
       "    }\n",
       "\n",
       "    .dataframe thead th {\n",
       "        text-align: right;\n",
       "    }\n",
       "</style>\n",
       "<table border=\"1\" class=\"dataframe\">\n",
       "  <thead>\n",
       "    <tr style=\"text-align: right;\">\n",
       "      <th></th>\n",
       "      <th>Title</th>\n",
       "      <th>Culture</th>\n",
       "      <th>Dynasty</th>\n",
       "      <th>Date</th>\n",
       "      <th>Period</th>\n",
       "      <th>Material</th>\n",
       "      <th>object_Type</th>\n",
       "    </tr>\n",
       "  </thead>\n",
       "  <tbody>\n",
       "    <tr>\n",
       "      <th>7</th>\n",
       "      <td>RC-9 - Striding Young Horus</td>\n",
       "      <td>Egyptian</td>\n",
       "      <td>26TH</td>\n",
       "      <td>664 - 525 BCE</td>\n",
       "      <td>3rd Intermediate</td>\n",
       "      <td>Bronze</td>\n",
       "      <td>Sculpture</td>\n",
       "    </tr>\n",
       "    <tr>\n",
       "      <th>8</th>\n",
       "      <td>RC-10 - Uraeus</td>\n",
       "      <td>Egyptian</td>\n",
       "      <td>21-25th</td>\n",
       "      <td>1070-656 BCE</td>\n",
       "      <td>3rd Intermediate</td>\n",
       "      <td>Bronze</td>\n",
       "      <td>Sculpture</td>\n",
       "    </tr>\n",
       "    <tr>\n",
       "      <th>11</th>\n",
       "      <td>RC-15 - Pitcher/ Vase</td>\n",
       "      <td>Egyptian</td>\n",
       "      <td>18TH</td>\n",
       "      <td>1570 - 1293 BCE</td>\n",
       "      <td>New Kingdom</td>\n",
       "      <td>Banded Calcite</td>\n",
       "      <td>Vessels</td>\n",
       "    </tr>\n",
       "    <tr>\n",
       "      <th>12</th>\n",
       "      <td>RC-16 - Mirror/ Dancing Girl Handle</td>\n",
       "      <td>Egyptian</td>\n",
       "      <td>18TH</td>\n",
       "      <td>1570-1293 BCE</td>\n",
       "      <td>New Kingdom</td>\n",
       "      <td>Bronze</td>\n",
       "      <td>Toiletries</td>\n",
       "    </tr>\n",
       "    <tr>\n",
       "      <th>13</th>\n",
       "      <td>RC-17 - Headrest</td>\n",
       "      <td>Egyptian</td>\n",
       "      <td>3 - 6TH</td>\n",
       "      <td>2705-2250 BCE</td>\n",
       "      <td>Old Kingdom</td>\n",
       "      <td>Wood</td>\n",
       "      <td>Furniture</td>\n",
       "    </tr>\n",
       "    <tr>\n",
       "      <th>...</th>\n",
       "      <td>...</td>\n",
       "      <td>...</td>\n",
       "      <td>...</td>\n",
       "      <td>...</td>\n",
       "      <td>...</td>\n",
       "      <td>...</td>\n",
       "      <td>...</td>\n",
       "    </tr>\n",
       "    <tr>\n",
       "      <th>819</th>\n",
       "      <td>RC-297 - Ptah</td>\n",
       "      <td>Egyptian</td>\n",
       "      <td>None</td>\n",
       "      <td>None</td>\n",
       "      <td>None</td>\n",
       "      <td>Bronze</td>\n",
       "      <td>Sculpture</td>\n",
       "    </tr>\n",
       "    <tr>\n",
       "      <th>820</th>\n",
       "      <td>RC-251 - Rameses Ii Cartouche Fragment</td>\n",
       "      <td>Egyptian</td>\n",
       "      <td>None</td>\n",
       "      <td>None</td>\n",
       "      <td>None</td>\n",
       "      <td>Granite</td>\n",
       "      <td>Epigraphy</td>\n",
       "    </tr>\n",
       "    <tr>\n",
       "      <th>821</th>\n",
       "      <td>RC-1727 - False Door with Ibis</td>\n",
       "      <td>Egyptian</td>\n",
       "      <td>None</td>\n",
       "      <td>None</td>\n",
       "      <td>None</td>\n",
       "      <td>Limestone</td>\n",
       "      <td>Funerary</td>\n",
       "    </tr>\n",
       "    <tr>\n",
       "      <th>822</th>\n",
       "      <td>RC-5187 - Scarab</td>\n",
       "      <td>Egyptian</td>\n",
       "      <td>13TH</td>\n",
       "      <td>1784-1668 BCE</td>\n",
       "      <td>2nd Intermediate</td>\n",
       "      <td>Faience</td>\n",
       "      <td>Amulets</td>\n",
       "    </tr>\n",
       "    <tr>\n",
       "      <th>823</th>\n",
       "      <td>RC-5195 - Wedjat Eye</td>\n",
       "      <td>Egyptian</td>\n",
       "      <td>18TH</td>\n",
       "      <td>1570-1293 BCE</td>\n",
       "      <td>New Kingdom</td>\n",
       "      <td>Faience</td>\n",
       "      <td>Amulets</td>\n",
       "    </tr>\n",
       "  </tbody>\n",
       "</table>\n",
       "<p>553 rows × 7 columns</p>\n",
       "</div>"
      ],
      "text/plain": [
       "                                      Title   Culture  Dynasty  \\\n",
       "7               RC-9 - Striding Young Horus  Egyptian     26TH   \n",
       "8                            RC-10 - Uraeus  Egyptian  21-25th   \n",
       "11                    RC-15 - Pitcher/ Vase  Egyptian     18TH   \n",
       "12      RC-16 - Mirror/ Dancing Girl Handle  Egyptian     18TH   \n",
       "13                         RC-17 - Headrest  Egyptian  3 - 6TH   \n",
       "..                                      ...       ...      ...   \n",
       "819                           RC-297 - Ptah  Egyptian     None   \n",
       "820  RC-251 - Rameses Ii Cartouche Fragment  Egyptian     None   \n",
       "821          RC-1727 - False Door with Ibis  Egyptian     None   \n",
       "822                        RC-5187 - Scarab  Egyptian     13TH   \n",
       "823                    RC-5195 - Wedjat Eye  Egyptian     18TH   \n",
       "\n",
       "                Date            Period        Material object_Type  \n",
       "7      664 - 525 BCE  3rd Intermediate          Bronze   Sculpture  \n",
       "8       1070-656 BCE  3rd Intermediate          Bronze   Sculpture  \n",
       "11   1570 - 1293 BCE       New Kingdom  Banded Calcite     Vessels  \n",
       "12     1570-1293 BCE       New Kingdom          Bronze  Toiletries  \n",
       "13     2705-2250 BCE       Old Kingdom            Wood   Furniture  \n",
       "..               ...               ...             ...         ...  \n",
       "819             None              None          Bronze   Sculpture  \n",
       "820             None              None         Granite   Epigraphy  \n",
       "821             None              None       Limestone    Funerary  \n",
       "822    1784-1668 BCE  2nd Intermediate         Faience     Amulets  \n",
       "823    1570-1293 BCE       New Kingdom         Faience     Amulets  \n",
       "\n",
       "[553 rows x 7 columns]"
      ]
     },
     "execution_count": 252,
     "metadata": {},
     "output_type": "execute_result"
    }
   ],
   "source": [
    "new_data[new_data['Date'].isna() == new_data['Dynasty'].isna()]"
   ]
  },
  {
   "cell_type": "code",
   "execution_count": 278,
   "metadata": {},
   "outputs": [],
   "source": [
    "col=[]\n",
    "num_nulls=[]\n",
    "\n",
    "for i in  new_data:\n",
    " try:\n",
    "   num_nulls.append(new_data[i].isna().value_counts()[1])\n",
    "   col.append(new_data[i].isna().value_counts().index.name)\n",
    "   \n",
    " except IndexError:\n",
    "     continue"
   ]
  },
  {
   "cell_type": "code",
   "execution_count": 280,
   "metadata": {},
   "outputs": [
    {
     "data": {
      "text/plain": [
       "<BarContainer object of 6 artists>"
      ]
     },
     "execution_count": 280,
     "metadata": {},
     "output_type": "execute_result"
    },
    {
     "data": {
      "image/png": "[encoded data removed]",
      "text/plain": [
       "<Figure size 640x480 with 1 Axes>"
      ]
     },
     "metadata": {},
     "output_type": "display_data"
    }
   ],
   "source": [
    "plt.bar(col,num_nulls)"
   ]
  },
  {
   "cell_type": "code",
   "execution_count": null,
   "metadata": {},
   "outputs": [],
   "source": []
  }
 ],
 "metadata": {
  "kernelspec": {
   "display_name": "Python 3",
   "language": "python",
   "name": "python3"
  },
  "language_info": {
   "codemirror_mode": {
    "name": "ipython",
    "version": 3
   },
   "file_extension": ".py",
   "mimetype": "text/x-python",
   "name": "python",
   "nbconvert_exporter": "python",
   "pygments_lexer": "ipython3",
   "version": "3.10.11"
  }
 },
 "nbformat": 4,
 "nbformat_minor": 2
}
