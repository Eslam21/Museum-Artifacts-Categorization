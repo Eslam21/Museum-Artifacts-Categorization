{
 "cells": [
  {
   "cell_type": "markdown",
   "metadata": {},
   "source": [
    "## Combine all Musems & Normalizing"
   ]
  },
  {
   "cell_type": "code",
   "execution_count": 1,
   "metadata": {},
   "outputs": [],
   "source": [
    "import pandas as pd \n",
    "import numpy as np\n",
    "import seaborn as sn\n",
    "import matplotlib.pyplot as plt\n",
    "import seaborn as sns\n",
    "import scipy as sp\n",
    "import os\n",
    "import json"
   ]
  },
  {
   "cell_type": "code",
   "execution_count": 2,
   "metadata": {},
   "outputs": [],
   "source": [
    "df_british = pd.read_csv('British_result.csv') \n",
    "df_global = pd.read_csv('combined_Global.csv')\n",
    "df_met = pd.read_csv('combined_Met.csv')\n",
    "df_rosi = pd.read_csv('combined_Rosi.csv')"
   ]
  },
  {
   "cell_type": "markdown",
   "metadata": {},
   "source": [
    "## Which columns to leave ?"
   ]
  },
  {
   "cell_type": "markdown",
   "metadata": {},
   "source": [
    "`The common are & to normalize ✨🌿`\n",
    "1. Object_classification\n",
    "2. material\n",
    "3. path\n",
    "4. date\n",
    "5. location \n",
    "6. description\n",
    "7. period\n",
    "8. dynasty\n",
    "9. Name"
   ]
  },
  {
   "cell_type": "code",
   "execution_count": 3,
   "metadata": {},
   "outputs": [],
   "source": [
    "def adjust_image_path(cellvalue, cat_museum):\n",
    "    file_name = cellvalue.split('\\\\')[-1]\n",
    "    file_name = file_name.split('.')[-2]\n",
    "    new_name = f\"{cat_museum}_{file_name}.jpg\"\n",
    "    return new_name "
   ]
  },
  {
   "cell_type": "markdown",
   "metadata": {},
   "source": [
    "### British Museum "
   ]
  },
  {
   "cell_type": "code",
   "execution_count": 4,
   "metadata": {},
   "outputs": [
    {
     "data": {
      "text/plain": [
       "Index(['Unnamed: 0', 'artifact_name', 'Object Type', 'Production date',\n",
       "       'Description', 'Materials', 'Cultures/periods', 'path'],\n",
       "      dtype='object')"
      ]
     },
     "execution_count": 4,
     "metadata": {},
     "output_type": "execute_result"
    }
   ],
   "source": [
    "df_british.columns"
   ]
  },
  {
   "cell_type": "code",
   "execution_count": 5,
   "metadata": {},
   "outputs": [
    {
     "data": {
      "text/html": [
       "<div>\n",
       "<style scoped>\n",
       "    .dataframe tbody tr th:only-of-type {\n",
       "        vertical-align: middle;\n",
       "    }\n",
       "\n",
       "    .dataframe tbody tr th {\n",
       "        vertical-align: top;\n",
       "    }\n",
       "\n",
       "    .dataframe thead th {\n",
       "        text-align: right;\n",
       "    }\n",
       "</style>\n",
       "<table border=\"1\" class=\"dataframe\">\n",
       "  <thead>\n",
       "    <tr style=\"text-align: right;\">\n",
       "      <th></th>\n",
       "      <th>Unnamed: 0</th>\n",
       "      <th>artifact_name</th>\n",
       "      <th>Object Type</th>\n",
       "      <th>Production date</th>\n",
       "      <th>Description</th>\n",
       "      <th>Materials</th>\n",
       "      <th>Cultures/periods</th>\n",
       "      <th>path</th>\n",
       "    </tr>\n",
       "  </thead>\n",
       "  <tbody>\n",
       "    <tr>\n",
       "      <th>0</th>\n",
       "      <td>0</td>\n",
       "      <td>ear-ring; bead</td>\n",
       "      <td>ear-ring ,  bead</td>\n",
       "      <td>1stC-3rdC (?)</td>\n",
       "      <td>Copper alloy ear-ring of thin wire with a loo...</td>\n",
       "      <td>copper alloy</td>\n",
       "      <td>NaN</td>\n",
       "      <td>A_1880-3687-m.json</td>\n",
       "    </tr>\n",
       "    <tr>\n",
       "      <th>1</th>\n",
       "      <td>1</td>\n",
       "      <td>hair-pin; dress-pin</td>\n",
       "      <td>hair-pin ,  dress-pin</td>\n",
       "      <td>1stC BC-early 1stC (circa)</td>\n",
       "      <td>Copper alloy ornamental hair- or dress-pin he...</td>\n",
       "      <td>copper alloy</td>\n",
       "      <td>NaN</td>\n",
       "      <td>A_1880-3711-o.json</td>\n",
       "    </tr>\n",
       "    <tr>\n",
       "      <th>2</th>\n",
       "      <td>2</td>\n",
       "      <td>hair-pin; dress-pin</td>\n",
       "      <td>hair-pin ,  dress-pin</td>\n",
       "      <td>1stC BC-early 1stC (circa)</td>\n",
       "      <td>Copper alloy ornamental hair- or dress-pin he...</td>\n",
       "      <td>copper alloy</td>\n",
       "      <td>NaN</td>\n",
       "      <td>A_1880-3714-a.json</td>\n",
       "    </tr>\n",
       "    <tr>\n",
       "      <th>3</th>\n",
       "      <td>3</td>\n",
       "      <td>hair-pin; dress-pin</td>\n",
       "      <td>hair-pin ,  dress-pin</td>\n",
       "      <td>1stC BC-early 1stC (circa)</td>\n",
       "      <td>Copper alloy ornamental hair- or dress-pin he...</td>\n",
       "      <td>copper alloy</td>\n",
       "      <td>NaN</td>\n",
       "      <td>A_1880-3717-f.json</td>\n",
       "    </tr>\n",
       "    <tr>\n",
       "      <th>4</th>\n",
       "      <td>4</td>\n",
       "      <td>ear-ring</td>\n",
       "      <td>ear-ring</td>\n",
       "      <td>1stC-3rdC (circa)</td>\n",
       "      <td>Cast, copper alloy hoop ear-ring bound with t...</td>\n",
       "      <td>copper alloy</td>\n",
       "      <td>NaN</td>\n",
       "      <td>A_1880-3960.json</td>\n",
       "    </tr>\n",
       "    <tr>\n",
       "      <th>...</th>\n",
       "      <td>...</td>\n",
       "      <td>...</td>\n",
       "      <td>...</td>\n",
       "      <td>...</td>\n",
       "      <td>...</td>\n",
       "      <td>...</td>\n",
       "      <td>...</td>\n",
       "      <td>...</td>\n",
       "    </tr>\n",
       "    <tr>\n",
       "      <th>56830</th>\n",
       "      <td>56830</td>\n",
       "      <td>papyrus</td>\n",
       "      <td>papyrus</td>\n",
       "      <td>NaN</td>\n",
       "      <td>Papyrus Harris; column 75; Discourse to Manki...</td>\n",
       "      <td>papyrus</td>\n",
       "      <td>['20th Dynasty']</td>\n",
       "      <td>Y_EA9999-75.json</td>\n",
       "    </tr>\n",
       "    <tr>\n",
       "      <th>56831</th>\n",
       "      <td>56831</td>\n",
       "      <td>papyrus</td>\n",
       "      <td>papyrus</td>\n",
       "      <td>NaN</td>\n",
       "      <td>Papyrus Harris; column 76; Discourse to Manki...</td>\n",
       "      <td>papyrus</td>\n",
       "      <td>['20th Dynasty']</td>\n",
       "      <td>Y_EA9999-76.json</td>\n",
       "    </tr>\n",
       "    <tr>\n",
       "      <th>56832</th>\n",
       "      <td>56832</td>\n",
       "      <td>papyrus</td>\n",
       "      <td>papyrus</td>\n",
       "      <td>NaN</td>\n",
       "      <td>Papyrus Harris; column 77; Discourse to Manki...</td>\n",
       "      <td>papyrus</td>\n",
       "      <td>['20th Dynasty']</td>\n",
       "      <td>Y_EA9999-77.json</td>\n",
       "    </tr>\n",
       "    <tr>\n",
       "      <th>56833</th>\n",
       "      <td>56833</td>\n",
       "      <td>papyrus</td>\n",
       "      <td>papyrus</td>\n",
       "      <td>NaN</td>\n",
       "      <td>Papyrus Harris; column 78; Discourse to Manki...</td>\n",
       "      <td>papyrus</td>\n",
       "      <td>['20th Dynasty']</td>\n",
       "      <td>Y_EA9999-78.json</td>\n",
       "    </tr>\n",
       "    <tr>\n",
       "      <th>56834</th>\n",
       "      <td>56834</td>\n",
       "      <td>papyrus</td>\n",
       "      <td>papyrus</td>\n",
       "      <td>NaN</td>\n",
       "      <td>Papyrus Harris; column 79; Discourse to Manki...</td>\n",
       "      <td>papyrus</td>\n",
       "      <td>['20th Dynasty']</td>\n",
       "      <td>Y_EA9999-79.json</td>\n",
       "    </tr>\n",
       "  </tbody>\n",
       "</table>\n",
       "<p>56835 rows × 8 columns</p>\n",
       "</div>"
      ],
      "text/plain": [
       "       Unnamed: 0          artifact_name              Object Type  \\\n",
       "0               0         ear-ring; bead        ear-ring ,  bead    \n",
       "1               1   hair-pin; dress-pin    hair-pin ,  dress-pin    \n",
       "2               2    hair-pin; dress-pin   hair-pin ,  dress-pin    \n",
       "3               3    hair-pin; dress-pin   hair-pin ,  dress-pin    \n",
       "4               4               ear-ring                 ear-ring   \n",
       "...           ...                    ...                      ...   \n",
       "56830       56830                papyrus                  papyrus   \n",
       "56831       56831                papyrus                  papyrus   \n",
       "56832       56832                papyrus                  papyrus   \n",
       "56833       56833                papyrus                  papyrus   \n",
       "56834       56834                papyrus                  papyrus   \n",
       "\n",
       "                    Production date  \\\n",
       "0                     1stC-3rdC (?)   \n",
       "1       1stC BC-early 1stC (circa)    \n",
       "2        1stC BC-early 1stC (circa)   \n",
       "3        1stC BC-early 1stC (circa)   \n",
       "4                 1stC-3rdC (circa)   \n",
       "...                             ...   \n",
       "56830                           NaN   \n",
       "56831                           NaN   \n",
       "56832                           NaN   \n",
       "56833                           NaN   \n",
       "56834                           NaN   \n",
       "\n",
       "                                             Description     Materials  \\\n",
       "0       Copper alloy ear-ring of thin wire with a loo...  copper alloy   \n",
       "1       Copper alloy ornamental hair- or dress-pin he...  copper alloy   \n",
       "2       Copper alloy ornamental hair- or dress-pin he...  copper alloy   \n",
       "3       Copper alloy ornamental hair- or dress-pin he...  copper alloy   \n",
       "4       Cast, copper alloy hoop ear-ring bound with t...  copper alloy   \n",
       "...                                                  ...           ...   \n",
       "56830   Papyrus Harris; column 75; Discourse to Manki...       papyrus   \n",
       "56831   Papyrus Harris; column 76; Discourse to Manki...       papyrus   \n",
       "56832   Papyrus Harris; column 77; Discourse to Manki...       papyrus   \n",
       "56833   Papyrus Harris; column 78; Discourse to Manki...       papyrus   \n",
       "56834   Papyrus Harris; column 79; Discourse to Manki...       papyrus   \n",
       "\n",
       "       Cultures/periods                path  \n",
       "0                   NaN  A_1880-3687-m.json  \n",
       "1                   NaN  A_1880-3711-o.json  \n",
       "2                   NaN  A_1880-3714-a.json  \n",
       "3                   NaN  A_1880-3717-f.json  \n",
       "4                   NaN    A_1880-3960.json  \n",
       "...                 ...                 ...  \n",
       "56830  ['20th Dynasty']    Y_EA9999-75.json  \n",
       "56831  ['20th Dynasty']    Y_EA9999-76.json  \n",
       "56832  ['20th Dynasty']    Y_EA9999-77.json  \n",
       "56833  ['20th Dynasty']    Y_EA9999-78.json  \n",
       "56834  ['20th Dynasty']    Y_EA9999-79.json  \n",
       "\n",
       "[56835 rows x 8 columns]"
      ]
     },
     "execution_count": 5,
     "metadata": {},
     "output_type": "execute_result"
    }
   ],
   "source": [
    "df_british"
   ]
  },
  {
   "cell_type": "code",
   "execution_count": 6,
   "metadata": {},
   "outputs": [
    {
     "data": {
      "text/plain": [
       "56835"
      ]
     },
     "execution_count": 6,
     "metadata": {},
     "output_type": "execute_result"
    }
   ],
   "source": [
    "len(df_british)  # one is missing"
   ]
  },
  {
   "cell_type": "code",
   "execution_count": 7,
   "metadata": {},
   "outputs": [],
   "source": [
    "df_british = df_british.rename(columns={\"Production date\":\"date\",'Object Type': 'object_classification', 'Materials':'material', 'image_path':'path', 'Cultures/periods_ex': 'dynasty', 'Description_ex':'description', \"artifact_name\":\"name\"})"
   ]
  },
  {
   "cell_type": "code",
   "execution_count": 8,
   "metadata": {},
   "outputs": [],
   "source": [
    "# df_british['date'] = None\n",
    "df_british['location'] = None # the location in this data is just the place \"Egypt\"\n",
    "df_british['period'] = None\n"
   ]
  },
  {
   "cell_type": "code",
   "execution_count": 9,
   "metadata": {},
   "outputs": [],
   "source": [
    "df_british['path'] = df_british['path'].apply(lambda cellvalue: adjust_image_path(cellvalue, \"bri\"))"
   ]
  },
  {
   "cell_type": "code",
   "execution_count": 10,
   "metadata": {},
   "outputs": [],
   "source": [
    "\n",
    "other_cols= list(df_british.columns.difference([\"path\"]))"
   ]
  },
  {
   "cell_type": "code",
   "execution_count": 11,
   "metadata": {},
   "outputs": [
    {
     "data": {
      "text/html": [
       "<div>\n",
       "<style scoped>\n",
       "    .dataframe tbody tr th:only-of-type {\n",
       "        vertical-align: middle;\n",
       "    }\n",
       "\n",
       "    .dataframe tbody tr th {\n",
       "        vertical-align: top;\n",
       "    }\n",
       "\n",
       "    .dataframe thead th {\n",
       "        text-align: right;\n",
       "    }\n",
       "</style>\n",
       "<table border=\"1\" class=\"dataframe\">\n",
       "  <thead>\n",
       "    <tr style=\"text-align: right;\">\n",
       "      <th></th>\n",
       "      <th>Unnamed: 0</th>\n",
       "      <th>name</th>\n",
       "      <th>object_classification</th>\n",
       "      <th>date</th>\n",
       "      <th>Description</th>\n",
       "      <th>material</th>\n",
       "      <th>Cultures/periods</th>\n",
       "      <th>path</th>\n",
       "      <th>location</th>\n",
       "      <th>period</th>\n",
       "    </tr>\n",
       "  </thead>\n",
       "  <tbody>\n",
       "    <tr>\n",
       "      <th>0</th>\n",
       "      <td>0</td>\n",
       "      <td>ear-ring; bead</td>\n",
       "      <td>ear-ring ,  bead</td>\n",
       "      <td>1stC-3rdC (?)</td>\n",
       "      <td>Copper alloy ear-ring of thin wire with a loo...</td>\n",
       "      <td>copper alloy</td>\n",
       "      <td>NaN</td>\n",
       "      <td>bri_A_1880-3687-m.jpg</td>\n",
       "      <td>None</td>\n",
       "      <td>None</td>\n",
       "    </tr>\n",
       "    <tr>\n",
       "      <th>1</th>\n",
       "      <td>1</td>\n",
       "      <td>hair-pin; dress-pin</td>\n",
       "      <td>hair-pin ,  dress-pin</td>\n",
       "      <td>1stC BC-early 1stC (circa)</td>\n",
       "      <td>Copper alloy ornamental hair- or dress-pin he...</td>\n",
       "      <td>copper alloy</td>\n",
       "      <td>NaN</td>\n",
       "      <td>bri_A_1880-3711-o.jpg</td>\n",
       "      <td>None</td>\n",
       "      <td>None</td>\n",
       "    </tr>\n",
       "    <tr>\n",
       "      <th>2</th>\n",
       "      <td>2</td>\n",
       "      <td>hair-pin; dress-pin</td>\n",
       "      <td>hair-pin ,  dress-pin</td>\n",
       "      <td>1stC BC-early 1stC (circa)</td>\n",
       "      <td>Copper alloy ornamental hair- or dress-pin he...</td>\n",
       "      <td>copper alloy</td>\n",
       "      <td>NaN</td>\n",
       "      <td>bri_A_1880-3714-a.jpg</td>\n",
       "      <td>None</td>\n",
       "      <td>None</td>\n",
       "    </tr>\n",
       "    <tr>\n",
       "      <th>3</th>\n",
       "      <td>3</td>\n",
       "      <td>hair-pin; dress-pin</td>\n",
       "      <td>hair-pin ,  dress-pin</td>\n",
       "      <td>1stC BC-early 1stC (circa)</td>\n",
       "      <td>Copper alloy ornamental hair- or dress-pin he...</td>\n",
       "      <td>copper alloy</td>\n",
       "      <td>NaN</td>\n",
       "      <td>bri_A_1880-3717-f.jpg</td>\n",
       "      <td>None</td>\n",
       "      <td>None</td>\n",
       "    </tr>\n",
       "    <tr>\n",
       "      <th>4</th>\n",
       "      <td>4</td>\n",
       "      <td>ear-ring</td>\n",
       "      <td>ear-ring</td>\n",
       "      <td>1stC-3rdC (circa)</td>\n",
       "      <td>Cast, copper alloy hoop ear-ring bound with t...</td>\n",
       "      <td>copper alloy</td>\n",
       "      <td>NaN</td>\n",
       "      <td>bri_A_1880-3960.jpg</td>\n",
       "      <td>None</td>\n",
       "      <td>None</td>\n",
       "    </tr>\n",
       "    <tr>\n",
       "      <th>...</th>\n",
       "      <td>...</td>\n",
       "      <td>...</td>\n",
       "      <td>...</td>\n",
       "      <td>...</td>\n",
       "      <td>...</td>\n",
       "      <td>...</td>\n",
       "      <td>...</td>\n",
       "      <td>...</td>\n",
       "      <td>...</td>\n",
       "      <td>...</td>\n",
       "    </tr>\n",
       "    <tr>\n",
       "      <th>56830</th>\n",
       "      <td>56830</td>\n",
       "      <td>papyrus</td>\n",
       "      <td>papyrus</td>\n",
       "      <td>NaN</td>\n",
       "      <td>Papyrus Harris; column 75; Discourse to Manki...</td>\n",
       "      <td>papyrus</td>\n",
       "      <td>['20th Dynasty']</td>\n",
       "      <td>bri_Y_EA9999-75.jpg</td>\n",
       "      <td>None</td>\n",
       "      <td>None</td>\n",
       "    </tr>\n",
       "    <tr>\n",
       "      <th>56831</th>\n",
       "      <td>56831</td>\n",
       "      <td>papyrus</td>\n",
       "      <td>papyrus</td>\n",
       "      <td>NaN</td>\n",
       "      <td>Papyrus Harris; column 76; Discourse to Manki...</td>\n",
       "      <td>papyrus</td>\n",
       "      <td>['20th Dynasty']</td>\n",
       "      <td>bri_Y_EA9999-76.jpg</td>\n",
       "      <td>None</td>\n",
       "      <td>None</td>\n",
       "    </tr>\n",
       "    <tr>\n",
       "      <th>56832</th>\n",
       "      <td>56832</td>\n",
       "      <td>papyrus</td>\n",
       "      <td>papyrus</td>\n",
       "      <td>NaN</td>\n",
       "      <td>Papyrus Harris; column 77; Discourse to Manki...</td>\n",
       "      <td>papyrus</td>\n",
       "      <td>['20th Dynasty']</td>\n",
       "      <td>bri_Y_EA9999-77.jpg</td>\n",
       "      <td>None</td>\n",
       "      <td>None</td>\n",
       "    </tr>\n",
       "    <tr>\n",
       "      <th>56833</th>\n",
       "      <td>56833</td>\n",
       "      <td>papyrus</td>\n",
       "      <td>papyrus</td>\n",
       "      <td>NaN</td>\n",
       "      <td>Papyrus Harris; column 78; Discourse to Manki...</td>\n",
       "      <td>papyrus</td>\n",
       "      <td>['20th Dynasty']</td>\n",
       "      <td>bri_Y_EA9999-78.jpg</td>\n",
       "      <td>None</td>\n",
       "      <td>None</td>\n",
       "    </tr>\n",
       "    <tr>\n",
       "      <th>56834</th>\n",
       "      <td>56834</td>\n",
       "      <td>papyrus</td>\n",
       "      <td>papyrus</td>\n",
       "      <td>NaN</td>\n",
       "      <td>Papyrus Harris; column 79; Discourse to Manki...</td>\n",
       "      <td>papyrus</td>\n",
       "      <td>['20th Dynasty']</td>\n",
       "      <td>bri_Y_EA9999-79.jpg</td>\n",
       "      <td>None</td>\n",
       "      <td>None</td>\n",
       "    </tr>\n",
       "  </tbody>\n",
       "</table>\n",
       "<p>56835 rows × 10 columns</p>\n",
       "</div>"
      ],
      "text/plain": [
       "       Unnamed: 0                   name    object_classification  \\\n",
       "0               0         ear-ring; bead        ear-ring ,  bead    \n",
       "1               1   hair-pin; dress-pin    hair-pin ,  dress-pin    \n",
       "2               2    hair-pin; dress-pin   hair-pin ,  dress-pin    \n",
       "3               3    hair-pin; dress-pin   hair-pin ,  dress-pin    \n",
       "4               4               ear-ring                 ear-ring   \n",
       "...           ...                    ...                      ...   \n",
       "56830       56830                papyrus                  papyrus   \n",
       "56831       56831                papyrus                  papyrus   \n",
       "56832       56832                papyrus                  papyrus   \n",
       "56833       56833                papyrus                  papyrus   \n",
       "56834       56834                papyrus                  papyrus   \n",
       "\n",
       "                               date  \\\n",
       "0                     1stC-3rdC (?)   \n",
       "1       1stC BC-early 1stC (circa)    \n",
       "2        1stC BC-early 1stC (circa)   \n",
       "3        1stC BC-early 1stC (circa)   \n",
       "4                 1stC-3rdC (circa)   \n",
       "...                             ...   \n",
       "56830                           NaN   \n",
       "56831                           NaN   \n",
       "56832                           NaN   \n",
       "56833                           NaN   \n",
       "56834                           NaN   \n",
       "\n",
       "                                             Description      material  \\\n",
       "0       Copper alloy ear-ring of thin wire with a loo...  copper alloy   \n",
       "1       Copper alloy ornamental hair- or dress-pin he...  copper alloy   \n",
       "2       Copper alloy ornamental hair- or dress-pin he...  copper alloy   \n",
       "3       Copper alloy ornamental hair- or dress-pin he...  copper alloy   \n",
       "4       Cast, copper alloy hoop ear-ring bound with t...  copper alloy   \n",
       "...                                                  ...           ...   \n",
       "56830   Papyrus Harris; column 75; Discourse to Manki...       papyrus   \n",
       "56831   Papyrus Harris; column 76; Discourse to Manki...       papyrus   \n",
       "56832   Papyrus Harris; column 77; Discourse to Manki...       papyrus   \n",
       "56833   Papyrus Harris; column 78; Discourse to Manki...       papyrus   \n",
       "56834   Papyrus Harris; column 79; Discourse to Manki...       papyrus   \n",
       "\n",
       "       Cultures/periods                   path location period  \n",
       "0                   NaN  bri_A_1880-3687-m.jpg     None   None  \n",
       "1                   NaN  bri_A_1880-3711-o.jpg     None   None  \n",
       "2                   NaN  bri_A_1880-3714-a.jpg     None   None  \n",
       "3                   NaN  bri_A_1880-3717-f.jpg     None   None  \n",
       "4                   NaN    bri_A_1880-3960.jpg     None   None  \n",
       "...                 ...                    ...      ...    ...  \n",
       "56830  ['20th Dynasty']    bri_Y_EA9999-75.jpg     None   None  \n",
       "56831  ['20th Dynasty']    bri_Y_EA9999-76.jpg     None   None  \n",
       "56832  ['20th Dynasty']    bri_Y_EA9999-77.jpg     None   None  \n",
       "56833  ['20th Dynasty']    bri_Y_EA9999-78.jpg     None   None  \n",
       "56834  ['20th Dynasty']    bri_Y_EA9999-79.jpg     None   None  \n",
       "\n",
       "[56835 rows x 10 columns]"
      ]
     },
     "execution_count": 11,
     "metadata": {},
     "output_type": "execute_result"
    }
   ],
   "source": [
    "df_british"
   ]
  },
  {
   "cell_type": "code",
   "execution_count": 12,
   "metadata": {},
   "outputs": [],
   "source": [
    "import pandas as pd \n",
    "import numpy as np\n",
    "import seaborn as sn\n",
    "import matplotlib.pyplot as plt\n",
    "import seaborn as sns\n",
    "import scipy as sp\n",
    "import os\n",
    "import json\n",
    "import random\n",
    "from PIL import Image\n",
    "import IPython.display as display"
   ]
  },
  {
   "cell_type": "code",
   "execution_count": 13,
   "metadata": {},
   "outputs": [],
   "source": [
    "def print_value_count(df, col, range):\n",
    "    x =df[col].value_counts()\n",
    "    plt.figure(figsize=(12,8))\n",
    "    plt.xticks(rotation=90)\n",
    "    plt.bar(x = x.index[0:range] ,  height= x.values[0:range])\n",
    "    return x.index[0:range]"
   ]
  },
  {
   "cell_type": "markdown",
   "metadata": {},
   "source": [
    "### Global Museum"
   ]
  },
  {
   "cell_type": "code",
   "execution_count": 14,
   "metadata": {},
   "outputs": [
    {
     "data": {
      "text/plain": [
       "Index(['Unnamed: 0', 'Archaeological Site', 'Category', 'Material', 'Dating',\n",
       "       'Description', 'Path', 'Name'],\n",
       "      dtype='object')"
      ]
     },
     "execution_count": 14,
     "metadata": {},
     "output_type": "execute_result"
    }
   ],
   "source": [
    "df_global.columns"
   ]
  },
  {
   "cell_type": "code",
   "execution_count": 15,
   "metadata": {},
   "outputs": [],
   "source": [
    "df_global = df_global.drop(columns=['Unnamed: 0'])"
   ]
  },
  {
   "cell_type": "code",
   "execution_count": 16,
   "metadata": {},
   "outputs": [
    {
     "data": {
      "text/html": [
       "<div>\n",
       "<style scoped>\n",
       "    .dataframe tbody tr th:only-of-type {\n",
       "        vertical-align: middle;\n",
       "    }\n",
       "\n",
       "    .dataframe tbody tr th {\n",
       "        vertical-align: top;\n",
       "    }\n",
       "\n",
       "    .dataframe thead th {\n",
       "        text-align: right;\n",
       "    }\n",
       "</style>\n",
       "<table border=\"1\" class=\"dataframe\">\n",
       "  <thead>\n",
       "    <tr style=\"text-align: right;\">\n",
       "      <th></th>\n",
       "      <th>Archaeological Site</th>\n",
       "      <th>Category</th>\n",
       "      <th>Material</th>\n",
       "      <th>Dating</th>\n",
       "      <th>Description</th>\n",
       "      <th>Path</th>\n",
       "      <th>Name</th>\n",
       "    </tr>\n",
       "  </thead>\n",
       "  <tbody>\n",
       "    <tr>\n",
       "      <th>0</th>\n",
       "      <td>el-faiyum</td>\n",
       "      <td>relief</td>\n",
       "      <td>limestone</td>\n",
       "      <td>roman period</td>\n",
       "      <td>several late period texts mention a lion god n...</td>\n",
       "      <td>glo_1.jpg</td>\n",
       "      <td>tithoes</td>\n",
       "    </tr>\n",
       "    <tr>\n",
       "      <th>1</th>\n",
       "      <td>unknown</td>\n",
       "      <td>coptic textile</td>\n",
       "      <td>wool</td>\n",
       "      <td>byzantine period</td>\n",
       "      <td>this piece of fabric is a so-called \"taquetã©'...</td>\n",
       "      <td>glo_10.jpg</td>\n",
       "      <td>fragment of  wedge shape</td>\n",
       "    </tr>\n",
       "    <tr>\n",
       "      <th>2</th>\n",
       "      <td>governorate of faiyum</td>\n",
       "      <td>basket</td>\n",
       "      <td>rush</td>\n",
       "      <td>graeco-roman period</td>\n",
       "      <td>this basket comes from the excavations of b. g...</td>\n",
       "      <td>glo_100.jpg</td>\n",
       "      <td>basket with lid</td>\n",
       "    </tr>\n",
       "    <tr>\n",
       "      <th>3</th>\n",
       "      <td>abydos</td>\n",
       "      <td>palette</td>\n",
       "      <td>greywacke</td>\n",
       "      <td>early dynastic period</td>\n",
       "      <td>this fragment of a rectangular palette diagram...</td>\n",
       "      <td>glo_1000.jpg</td>\n",
       "      <td>fragment of rectangular palette</td>\n",
       "    </tr>\n",
       "    <tr>\n",
       "      <th>4</th>\n",
       "      <td>thebes: west bank</td>\n",
       "      <td>finger ring</td>\n",
       "      <td>bronze</td>\n",
       "      <td>unknown</td>\n",
       "      <td>NaN</td>\n",
       "      <td>glo_10000.jpg</td>\n",
       "      <td>NaN</td>\n",
       "    </tr>\n",
       "  </tbody>\n",
       "</table>\n",
       "</div>"
      ],
      "text/plain": [
       "     Archaeological Site        Category   Material                 Dating  \\\n",
       "0              el-faiyum          relief  limestone           roman period   \n",
       "1                unknown  coptic textile       wool       byzantine period   \n",
       "2  governorate of faiyum          basket       rush    graeco-roman period   \n",
       "3                 abydos         palette  greywacke  early dynastic period   \n",
       "4      thebes: west bank     finger ring     bronze                unknown   \n",
       "\n",
       "                                         Description           Path  \\\n",
       "0  several late period texts mention a lion god n...      glo_1.jpg   \n",
       "1  this piece of fabric is a so-called \"taquetã©'...     glo_10.jpg   \n",
       "2  this basket comes from the excavations of b. g...    glo_100.jpg   \n",
       "3  this fragment of a rectangular palette diagram...   glo_1000.jpg   \n",
       "4                                                NaN  glo_10000.jpg   \n",
       "\n",
       "                              Name  \n",
       "0                          tithoes  \n",
       "1         fragment of  wedge shape  \n",
       "2                  basket with lid  \n",
       "3  fragment of rectangular palette  \n",
       "4                              NaN  "
      ]
     },
     "execution_count": 16,
     "metadata": {},
     "output_type": "execute_result"
    }
   ],
   "source": [
    "df_global ['Path'] = df_global ['Path'].apply(lambda cellvalue: adjust_image_path(cellvalue, \"glo\"))\n",
    "df_global .head(5)"
   ]
  },
  {
   "cell_type": "code",
   "execution_count": 17,
   "metadata": {},
   "outputs": [],
   "source": [
    "df_global = df_global.rename(columns={'Archaeological Site':'location', 'Category': 'object_classification','Material': 'material', 'Dating': 'period','Description':'description', \"Name\":'name',\"Path\":'path'})"
   ]
  },
  {
   "cell_type": "code",
   "execution_count": 18,
   "metadata": {},
   "outputs": [],
   "source": [
    "df_global[\"date\"] = None\n",
    "df_global[\"dynasty\"] = None\n"
   ]
  },
  {
   "cell_type": "code",
   "execution_count": 19,
   "metadata": {},
   "outputs": [
    {
     "data": {
      "text/html": [
       "<div>\n",
       "<style scoped>\n",
       "    .dataframe tbody tr th:only-of-type {\n",
       "        vertical-align: middle;\n",
       "    }\n",
       "\n",
       "    .dataframe tbody tr th {\n",
       "        vertical-align: top;\n",
       "    }\n",
       "\n",
       "    .dataframe thead th {\n",
       "        text-align: right;\n",
       "    }\n",
       "</style>\n",
       "<table border=\"1\" class=\"dataframe\">\n",
       "  <thead>\n",
       "    <tr style=\"text-align: right;\">\n",
       "      <th></th>\n",
       "      <th>location</th>\n",
       "      <th>object_classification</th>\n",
       "      <th>material</th>\n",
       "      <th>period</th>\n",
       "      <th>description</th>\n",
       "      <th>path</th>\n",
       "      <th>name</th>\n",
       "      <th>date</th>\n",
       "      <th>dynasty</th>\n",
       "    </tr>\n",
       "  </thead>\n",
       "  <tbody>\n",
       "    <tr>\n",
       "      <th>0</th>\n",
       "      <td>el-faiyum</td>\n",
       "      <td>relief</td>\n",
       "      <td>limestone</td>\n",
       "      <td>roman period</td>\n",
       "      <td>several late period texts mention a lion god n...</td>\n",
       "      <td>glo_1.jpg</td>\n",
       "      <td>tithoes</td>\n",
       "      <td>None</td>\n",
       "      <td>None</td>\n",
       "    </tr>\n",
       "    <tr>\n",
       "      <th>1</th>\n",
       "      <td>unknown</td>\n",
       "      <td>coptic textile</td>\n",
       "      <td>wool</td>\n",
       "      <td>byzantine period</td>\n",
       "      <td>this piece of fabric is a so-called \"taquetã©'...</td>\n",
       "      <td>glo_10.jpg</td>\n",
       "      <td>fragment of  wedge shape</td>\n",
       "      <td>None</td>\n",
       "      <td>None</td>\n",
       "    </tr>\n",
       "    <tr>\n",
       "      <th>2</th>\n",
       "      <td>governorate of faiyum</td>\n",
       "      <td>basket</td>\n",
       "      <td>rush</td>\n",
       "      <td>graeco-roman period</td>\n",
       "      <td>this basket comes from the excavations of b. g...</td>\n",
       "      <td>glo_100.jpg</td>\n",
       "      <td>basket with lid</td>\n",
       "      <td>None</td>\n",
       "      <td>None</td>\n",
       "    </tr>\n",
       "    <tr>\n",
       "      <th>3</th>\n",
       "      <td>abydos</td>\n",
       "      <td>palette</td>\n",
       "      <td>greywacke</td>\n",
       "      <td>early dynastic period</td>\n",
       "      <td>this fragment of a rectangular palette diagram...</td>\n",
       "      <td>glo_1000.jpg</td>\n",
       "      <td>fragment of rectangular palette</td>\n",
       "      <td>None</td>\n",
       "      <td>None</td>\n",
       "    </tr>\n",
       "    <tr>\n",
       "      <th>4</th>\n",
       "      <td>thebes: west bank</td>\n",
       "      <td>finger ring</td>\n",
       "      <td>bronze</td>\n",
       "      <td>unknown</td>\n",
       "      <td>NaN</td>\n",
       "      <td>glo_10000.jpg</td>\n",
       "      <td>NaN</td>\n",
       "      <td>None</td>\n",
       "      <td>None</td>\n",
       "    </tr>\n",
       "    <tr>\n",
       "      <th>...</th>\n",
       "      <td>...</td>\n",
       "      <td>...</td>\n",
       "      <td>...</td>\n",
       "      <td>...</td>\n",
       "      <td>...</td>\n",
       "      <td>...</td>\n",
       "      <td>...</td>\n",
       "      <td>...</td>\n",
       "      <td>...</td>\n",
       "    </tr>\n",
       "    <tr>\n",
       "      <th>15904</th>\n",
       "      <td>unknown</td>\n",
       "      <td>amulet</td>\n",
       "      <td>faience</td>\n",
       "      <td>unknown</td>\n",
       "      <td>NaN</td>\n",
       "      <td>glo_9995.jpg</td>\n",
       "      <td>NaN</td>\n",
       "      <td>None</td>\n",
       "      <td>None</td>\n",
       "    </tr>\n",
       "    <tr>\n",
       "      <th>15905</th>\n",
       "      <td>thebes: west bank</td>\n",
       "      <td>necklace</td>\n",
       "      <td>shell</td>\n",
       "      <td>unknown</td>\n",
       "      <td>NaN</td>\n",
       "      <td>glo_9996.jpg</td>\n",
       "      <td>NaN</td>\n",
       "      <td>None</td>\n",
       "      <td>None</td>\n",
       "    </tr>\n",
       "    <tr>\n",
       "      <th>15906</th>\n",
       "      <td>unknown</td>\n",
       "      <td>necklace</td>\n",
       "      <td>faience</td>\n",
       "      <td>unknown</td>\n",
       "      <td>NaN</td>\n",
       "      <td>glo_9997.jpg</td>\n",
       "      <td>NaN</td>\n",
       "      <td>None</td>\n",
       "      <td>None</td>\n",
       "    </tr>\n",
       "    <tr>\n",
       "      <th>15907</th>\n",
       "      <td>unknown</td>\n",
       "      <td>necklace</td>\n",
       "      <td>faience</td>\n",
       "      <td>unknown</td>\n",
       "      <td>NaN</td>\n",
       "      <td>glo_9998.jpg</td>\n",
       "      <td>NaN</td>\n",
       "      <td>None</td>\n",
       "      <td>None</td>\n",
       "    </tr>\n",
       "    <tr>\n",
       "      <th>15908</th>\n",
       "      <td>unknown</td>\n",
       "      <td>figurine</td>\n",
       "      <td>bronze</td>\n",
       "      <td>late period</td>\n",
       "      <td>NaN</td>\n",
       "      <td>glo_9999.jpg</td>\n",
       "      <td>NaN</td>\n",
       "      <td>None</td>\n",
       "      <td>None</td>\n",
       "    </tr>\n",
       "  </tbody>\n",
       "</table>\n",
       "<p>15909 rows × 9 columns</p>\n",
       "</div>"
      ],
      "text/plain": [
       "                    location object_classification   material  \\\n",
       "0                  el-faiyum                relief  limestone   \n",
       "1                    unknown        coptic textile       wool   \n",
       "2      governorate of faiyum                basket       rush   \n",
       "3                     abydos               palette  greywacke   \n",
       "4          thebes: west bank           finger ring     bronze   \n",
       "...                      ...                   ...        ...   \n",
       "15904                unknown                amulet    faience   \n",
       "15905      thebes: west bank              necklace      shell   \n",
       "15906                unknown              necklace    faience   \n",
       "15907                unknown              necklace    faience   \n",
       "15908                unknown              figurine     bronze   \n",
       "\n",
       "                      period  \\\n",
       "0               roman period   \n",
       "1           byzantine period   \n",
       "2        graeco-roman period   \n",
       "3      early dynastic period   \n",
       "4                    unknown   \n",
       "...                      ...   \n",
       "15904                unknown   \n",
       "15905                unknown   \n",
       "15906                unknown   \n",
       "15907                unknown   \n",
       "15908            late period   \n",
       "\n",
       "                                             description           path  \\\n",
       "0      several late period texts mention a lion god n...      glo_1.jpg   \n",
       "1      this piece of fabric is a so-called \"taquetã©'...     glo_10.jpg   \n",
       "2      this basket comes from the excavations of b. g...    glo_100.jpg   \n",
       "3      this fragment of a rectangular palette diagram...   glo_1000.jpg   \n",
       "4                                                    NaN  glo_10000.jpg   \n",
       "...                                                  ...            ...   \n",
       "15904                                                NaN   glo_9995.jpg   \n",
       "15905                                                NaN   glo_9996.jpg   \n",
       "15906                                                NaN   glo_9997.jpg   \n",
       "15907                                                NaN   glo_9998.jpg   \n",
       "15908                                                NaN   glo_9999.jpg   \n",
       "\n",
       "                                  name  date dynasty  \n",
       "0                              tithoes  None    None  \n",
       "1             fragment of  wedge shape  None    None  \n",
       "2                      basket with lid  None    None  \n",
       "3      fragment of rectangular palette  None    None  \n",
       "4                                  NaN  None    None  \n",
       "...                                ...   ...     ...  \n",
       "15904                              NaN  None    None  \n",
       "15905                              NaN  None    None  \n",
       "15906                              NaN  None    None  \n",
       "15907                              NaN  None    None  \n",
       "15908                              NaN  None    None  \n",
       "\n",
       "[15909 rows x 9 columns]"
      ]
     },
     "execution_count": 19,
     "metadata": {},
     "output_type": "execute_result"
    }
   ],
   "source": [
    "df_global"
   ]
  },
  {
   "cell_type": "code",
   "execution_count": 20,
   "metadata": {},
   "outputs": [
    {
     "data": {
      "text/plain": [
       "float"
      ]
     },
     "execution_count": 20,
     "metadata": {},
     "output_type": "execute_result"
    }
   ],
   "source": [
    "type(df_global[\"description\"][15904]) "
   ]
  },
  {
   "cell_type": "code",
   "execution_count": 21,
   "metadata": {},
   "outputs": [
    {
     "data": {
      "text/plain": [
       "15909"
      ]
     },
     "execution_count": 21,
     "metadata": {},
     "output_type": "execute_result"
    }
   ],
   "source": [
    "len(df_global)"
   ]
  },
  {
   "cell_type": "markdown",
   "metadata": {},
   "source": [
    "### Met Museum\n"
   ]
  },
  {
   "cell_type": "code",
   "execution_count": 22,
   "metadata": {},
   "outputs": [
    {
     "data": {
      "text/plain": [
       "Index(['Unnamed: 0', 'objectDate', 'locus', 'city', 'objectName', 'subregion',\n",
       "       'period', 'Path', 'title', 'dynasty', 'reign', 'classification',\n",
       "       'medium', 'region'],\n",
       "      dtype='object')"
      ]
     },
     "execution_count": 22,
     "metadata": {},
     "output_type": "execute_result"
    }
   ],
   "source": [
    "df_met.columns"
   ]
  },
  {
   "cell_type": "code",
   "execution_count": 23,
   "metadata": {},
   "outputs": [],
   "source": [
    "df_met = df_met.drop(columns=['Unnamed: 0',\"locus\"])"
   ]
  },
  {
   "cell_type": "code",
   "execution_count": 24,
   "metadata": {},
   "outputs": [
    {
     "data": {
      "text/html": [
       "<div>\n",
       "<style scoped>\n",
       "    .dataframe tbody tr th:only-of-type {\n",
       "        vertical-align: middle;\n",
       "    }\n",
       "\n",
       "    .dataframe tbody tr th {\n",
       "        vertical-align: top;\n",
       "    }\n",
       "\n",
       "    .dataframe thead th {\n",
       "        text-align: right;\n",
       "    }\n",
       "</style>\n",
       "<table border=\"1\" class=\"dataframe\">\n",
       "  <thead>\n",
       "    <tr style=\"text-align: right;\">\n",
       "      <th></th>\n",
       "      <th>objectDate</th>\n",
       "      <th>city</th>\n",
       "      <th>objectName</th>\n",
       "      <th>subregion</th>\n",
       "      <th>period</th>\n",
       "      <th>Path</th>\n",
       "      <th>title</th>\n",
       "      <th>dynasty</th>\n",
       "      <th>reign</th>\n",
       "      <th>classification</th>\n",
       "      <th>medium</th>\n",
       "      <th>region</th>\n",
       "    </tr>\n",
       "  </thead>\n",
       "  <tbody>\n",
       "    <tr>\n",
       "      <th>0</th>\n",
       "      <td>664-30 B.C.</td>\n",
       "      <td>unknown</td>\n",
       "      <td>Bastet, standing, aegis, basket</td>\n",
       "      <td>unknown</td>\n",
       "      <td>Late Period -Ptolemaic Period</td>\n",
       "      <td>met_329767.jpg</td>\n",
       "      <td>Bastet holding aegis and basket</td>\n",
       "      <td>Dynasty 26 or later</td>\n",
       "      <td>unknown</td>\n",
       "      <td>unknown</td>\n",
       "      <td>Cupreous metal</td>\n",
       "      <td>unknown</td>\n",
       "    </tr>\n",
       "    <tr>\n",
       "      <th>1</th>\n",
       "      <td>ca. 1850-1650 B.C.</td>\n",
       "      <td>unknown</td>\n",
       "      <td>Upper half of a woman from a pair or group statue</td>\n",
       "      <td>unknown</td>\n",
       "      <td>Late Middle Kingdom</td>\n",
       "      <td>met_329768.jpg</td>\n",
       "      <td>Upper half of a woman from a pair or group statue</td>\n",
       "      <td>Late Dynasty 12-13</td>\n",
       "      <td>unknown</td>\n",
       "      <td>unknown</td>\n",
       "      <td>Granite</td>\n",
       "      <td>unknown</td>\n",
       "    </tr>\n",
       "    <tr>\n",
       "      <th>2</th>\n",
       "      <td>ca. 664-525 B.C.</td>\n",
       "      <td>unknown</td>\n",
       "      <td>Head from a figure of Osiris</td>\n",
       "      <td>unknown</td>\n",
       "      <td>Late Period</td>\n",
       "      <td>met_329769.jpg</td>\n",
       "      <td>Head from a figure of Osiris</td>\n",
       "      <td>Dynasty 26</td>\n",
       "      <td>unknown</td>\n",
       "      <td>unknown</td>\n",
       "      <td>Graywacke</td>\n",
       "      <td>unknown</td>\n",
       "    </tr>\n",
       "    <tr>\n",
       "      <th>3</th>\n",
       "      <td>664-30 B.C.</td>\n",
       "      <td>unknown</td>\n",
       "      <td>figure, Osiris</td>\n",
       "      <td>unknown</td>\n",
       "      <td>Late Period-Ptolemaic Period</td>\n",
       "      <td>met_329771.jpg</td>\n",
       "      <td>Figure of Osiris</td>\n",
       "      <td>unknown</td>\n",
       "      <td>unknown</td>\n",
       "      <td>unknown</td>\n",
       "      <td>Cupreous metal</td>\n",
       "      <td>unknown</td>\n",
       "    </tr>\n",
       "    <tr>\n",
       "      <th>4</th>\n",
       "      <td>ca. 1850-1650 B.C.</td>\n",
       "      <td>unknown</td>\n",
       "      <td>Head and chest of a shabti figure</td>\n",
       "      <td>unknown</td>\n",
       "      <td>Middle Kingdom</td>\n",
       "      <td>met_329774.jpg</td>\n",
       "      <td>Head and chest of a shabti figure</td>\n",
       "      <td>late Dynasty 12 to Dynasty 13</td>\n",
       "      <td>unknown</td>\n",
       "      <td>unknown</td>\n",
       "      <td>Steatite or serpentinite</td>\n",
       "      <td>unknown</td>\n",
       "    </tr>\n",
       "  </tbody>\n",
       "</table>\n",
       "</div>"
      ],
      "text/plain": [
       "           objectDate     city  \\\n",
       "0         664-30 B.C.  unknown   \n",
       "1  ca. 1850-1650 B.C.  unknown   \n",
       "2    ca. 664-525 B.C.  unknown   \n",
       "3         664-30 B.C.  unknown   \n",
       "4  ca. 1850-1650 B.C.  unknown   \n",
       "\n",
       "                                          objectName subregion  \\\n",
       "0                    Bastet, standing, aegis, basket   unknown   \n",
       "1  Upper half of a woman from a pair or group statue   unknown   \n",
       "2                       Head from a figure of Osiris   unknown   \n",
       "3                                     figure, Osiris   unknown   \n",
       "4                  Head and chest of a shabti figure   unknown   \n",
       "\n",
       "                          period            Path  \\\n",
       "0  Late Period -Ptolemaic Period  met_329767.jpg   \n",
       "1            Late Middle Kingdom  met_329768.jpg   \n",
       "2                    Late Period  met_329769.jpg   \n",
       "3   Late Period-Ptolemaic Period  met_329771.jpg   \n",
       "4                 Middle Kingdom  met_329774.jpg   \n",
       "\n",
       "                                               title  \\\n",
       "0                    Bastet holding aegis and basket   \n",
       "1  Upper half of a woman from a pair or group statue   \n",
       "2                       Head from a figure of Osiris   \n",
       "3                                   Figure of Osiris   \n",
       "4                  Head and chest of a shabti figure   \n",
       "\n",
       "                         dynasty    reign classification  \\\n",
       "0            Dynasty 26 or later  unknown        unknown   \n",
       "1             Late Dynasty 12-13  unknown        unknown   \n",
       "2                     Dynasty 26  unknown        unknown   \n",
       "3                        unknown  unknown        unknown   \n",
       "4  late Dynasty 12 to Dynasty 13  unknown        unknown   \n",
       "\n",
       "                     medium   region  \n",
       "0            Cupreous metal  unknown  \n",
       "1                   Granite  unknown  \n",
       "2                 Graywacke  unknown  \n",
       "3            Cupreous metal  unknown  \n",
       "4  Steatite or serpentinite  unknown  "
      ]
     },
     "execution_count": 24,
     "metadata": {},
     "output_type": "execute_result"
    }
   ],
   "source": [
    "df_met['Path'] = df_met['Path'].apply(lambda cellvalue: adjust_image_path(cellvalue, \"met\"))\n",
    "df_met.head(5)"
   ]
  },
  {
   "cell_type": "code",
   "execution_count": 25,
   "metadata": {},
   "outputs": [
    {
     "data": {
      "text/plain": [
       "dynasty\n",
       "unknown                             5420\n",
       "Dynasty 18                          3172\n",
       "Dynasty 12-13                        922\n",
       "Dynasty 21                           781\n",
       "Dynasty 12                           739\n",
       "                                    ... \n",
       "Dynasty 12, mid- Dynasy 13             1\n",
       "Dynasty 12,mid-Dynasty 13              1\n",
       "Dynasty 11-early 18                    1\n",
       "late Dynasty 17-early Dynasty 18       1\n",
       "18                                     1\n",
       "Name: count, Length: 273, dtype: int64"
      ]
     },
     "execution_count": 25,
     "metadata": {},
     "output_type": "execute_result"
    }
   ],
   "source": [
    "df_met[\"dynasty\"].value_counts()"
   ]
  },
  {
   "cell_type": "code",
   "execution_count": 26,
   "metadata": {},
   "outputs": [],
   "source": [
    "df_met['object_classification'] = df_met['objectName'].str.split(',')\n",
    "df_met = df_met.drop(columns=[\"objectName\"])\n",
    "df_met['location'] = df_met.apply(lambda row: [v for v in [row['city'], row['subregion'], row['region']] if pd.notna(v) and v != \"unknown\"], axis=1)\n",
    "df_met = df_met.drop(columns=['city', 'subregion' ,'region','classification'])\n",
    "df_met['period'] = df_met.apply(lambda row: [v for v in [row['reign'], row['period']] if pd.notna(v) and v != \"unknown\"], axis=1)\n",
    "df_met = df_met.drop(columns=['reign'])\n",
    "df_met[\"name\"] = df_met[\"title\"]"
   ]
  },
  {
   "cell_type": "code",
   "execution_count": 27,
   "metadata": {},
   "outputs": [],
   "source": [
    "df_met= df_met.rename(columns={'title': 'description',  'Path':'path', 'objectDate':'date', 'medium':'material'})"
   ]
  },
  {
   "cell_type": "code",
   "execution_count": 28,
   "metadata": {},
   "outputs": [
    {
     "data": {
      "text/html": [
       "<div>\n",
       "<style scoped>\n",
       "    .dataframe tbody tr th:only-of-type {\n",
       "        vertical-align: middle;\n",
       "    }\n",
       "\n",
       "    .dataframe tbody tr th {\n",
       "        vertical-align: top;\n",
       "    }\n",
       "\n",
       "    .dataframe thead th {\n",
       "        text-align: right;\n",
       "    }\n",
       "</style>\n",
       "<table border=\"1\" class=\"dataframe\">\n",
       "  <thead>\n",
       "    <tr style=\"text-align: right;\">\n",
       "      <th></th>\n",
       "      <th>date</th>\n",
       "      <th>period</th>\n",
       "      <th>path</th>\n",
       "      <th>description</th>\n",
       "      <th>dynasty</th>\n",
       "      <th>material</th>\n",
       "      <th>object_classification</th>\n",
       "      <th>location</th>\n",
       "      <th>name</th>\n",
       "    </tr>\n",
       "  </thead>\n",
       "  <tbody>\n",
       "    <tr>\n",
       "      <th>0</th>\n",
       "      <td>664-30 B.C.</td>\n",
       "      <td>[Late Period -Ptolemaic Period]</td>\n",
       "      <td>met_329767.jpg</td>\n",
       "      <td>Bastet holding aegis and basket</td>\n",
       "      <td>Dynasty 26 or later</td>\n",
       "      <td>Cupreous metal</td>\n",
       "      <td>[Bastet,  standing,  aegis,  basket]</td>\n",
       "      <td>[]</td>\n",
       "      <td>Bastet holding aegis and basket</td>\n",
       "    </tr>\n",
       "    <tr>\n",
       "      <th>1</th>\n",
       "      <td>ca. 1850-1650 B.C.</td>\n",
       "      <td>[Late Middle Kingdom]</td>\n",
       "      <td>met_329768.jpg</td>\n",
       "      <td>Upper half of a woman from a pair or group statue</td>\n",
       "      <td>Late Dynasty 12-13</td>\n",
       "      <td>Granite</td>\n",
       "      <td>[Upper half of a woman from a pair or group st...</td>\n",
       "      <td>[]</td>\n",
       "      <td>Upper half of a woman from a pair or group statue</td>\n",
       "    </tr>\n",
       "    <tr>\n",
       "      <th>2</th>\n",
       "      <td>ca. 664-525 B.C.</td>\n",
       "      <td>[Late Period]</td>\n",
       "      <td>met_329769.jpg</td>\n",
       "      <td>Head from a figure of Osiris</td>\n",
       "      <td>Dynasty 26</td>\n",
       "      <td>Graywacke</td>\n",
       "      <td>[Head from a figure of Osiris]</td>\n",
       "      <td>[]</td>\n",
       "      <td>Head from a figure of Osiris</td>\n",
       "    </tr>\n",
       "    <tr>\n",
       "      <th>3</th>\n",
       "      <td>664-30 B.C.</td>\n",
       "      <td>[Late Period-Ptolemaic Period]</td>\n",
       "      <td>met_329771.jpg</td>\n",
       "      <td>Figure of Osiris</td>\n",
       "      <td>unknown</td>\n",
       "      <td>Cupreous metal</td>\n",
       "      <td>[figure,  Osiris]</td>\n",
       "      <td>[]</td>\n",
       "      <td>Figure of Osiris</td>\n",
       "    </tr>\n",
       "    <tr>\n",
       "      <th>4</th>\n",
       "      <td>ca. 1850-1650 B.C.</td>\n",
       "      <td>[Middle Kingdom]</td>\n",
       "      <td>met_329774.jpg</td>\n",
       "      <td>Head and chest of a shabti figure</td>\n",
       "      <td>late Dynasty 12 to Dynasty 13</td>\n",
       "      <td>Steatite or serpentinite</td>\n",
       "      <td>[Head and chest of a shabti figure]</td>\n",
       "      <td>[]</td>\n",
       "      <td>Head and chest of a shabti figure</td>\n",
       "    </tr>\n",
       "    <tr>\n",
       "      <th>...</th>\n",
       "      <td>...</td>\n",
       "      <td>...</td>\n",
       "      <td>...</td>\n",
       "      <td>...</td>\n",
       "      <td>...</td>\n",
       "      <td>...</td>\n",
       "      <td>...</td>\n",
       "      <td>...</td>\n",
       "      <td>...</td>\n",
       "    </tr>\n",
       "    <tr>\n",
       "      <th>15163</th>\n",
       "      <td>19th century</td>\n",
       "      <td>[]</td>\n",
       "      <td>met_85658.jpg</td>\n",
       "      <td>Dress</td>\n",
       "      <td>unknown</td>\n",
       "      <td>Cotton, metal wrapped thread</td>\n",
       "      <td>[Dress]</td>\n",
       "      <td>[]</td>\n",
       "      <td>Dress</td>\n",
       "    </tr>\n",
       "    <tr>\n",
       "      <th>15164</th>\n",
       "      <td>19th century</td>\n",
       "      <td>[]</td>\n",
       "      <td>met_85659.jpg</td>\n",
       "      <td>Dress</td>\n",
       "      <td>unknown</td>\n",
       "      <td>Cotton, metal wrapped thread</td>\n",
       "      <td>[Dress]</td>\n",
       "      <td>[]</td>\n",
       "      <td>Dress</td>\n",
       "    </tr>\n",
       "    <tr>\n",
       "      <th>15165</th>\n",
       "      <td>664-30 B.C.</td>\n",
       "      <td>[Late Period - Ptolemaic Period]</td>\n",
       "      <td>met_857670.jpg</td>\n",
       "      <td>Figure of a rearing cobra with feline head</td>\n",
       "      <td>unknown</td>\n",
       "      <td>Bronze or cupreous alloy</td>\n",
       "      <td>[Figure of a rearing cobra with feline head]</td>\n",
       "      <td>[]</td>\n",
       "      <td>Figure of a rearing cobra with feline head</td>\n",
       "    </tr>\n",
       "    <tr>\n",
       "      <th>15166</th>\n",
       "      <td>ca. 1550-1295 B.C.</td>\n",
       "      <td>[New Kingdom]</td>\n",
       "      <td>met_905798.jpg</td>\n",
       "      <td>Gold foil fragments</td>\n",
       "      <td>Dynasty 18</td>\n",
       "      <td>Gold leaf</td>\n",
       "      <td>[gold foil fragments]</td>\n",
       "      <td>[Dra Abu el-Naga, Upper Egypt, Thebes]</td>\n",
       "      <td>Gold foil fragments</td>\n",
       "    </tr>\n",
       "    <tr>\n",
       "      <th>15167</th>\n",
       "      <td>100 B.C.-100 A.D.</td>\n",
       "      <td>[Ptolemaic Period or Roman Period]</td>\n",
       "      <td>met_905799.jpg</td>\n",
       "      <td>Unpainted linen fragment</td>\n",
       "      <td>unknown</td>\n",
       "      <td>Linen</td>\n",
       "      <td>[Shroud fragment]</td>\n",
       "      <td>[]</td>\n",
       "      <td>Unpainted linen fragment</td>\n",
       "    </tr>\n",
       "  </tbody>\n",
       "</table>\n",
       "<p>15168 rows × 9 columns</p>\n",
       "</div>"
      ],
      "text/plain": [
       "                     date                              period            path  \\\n",
       "0             664-30 B.C.     [Late Period -Ptolemaic Period]  met_329767.jpg   \n",
       "1      ca. 1850-1650 B.C.               [Late Middle Kingdom]  met_329768.jpg   \n",
       "2        ca. 664-525 B.C.                       [Late Period]  met_329769.jpg   \n",
       "3             664-30 B.C.      [Late Period-Ptolemaic Period]  met_329771.jpg   \n",
       "4      ca. 1850-1650 B.C.                    [Middle Kingdom]  met_329774.jpg   \n",
       "...                   ...                                 ...             ...   \n",
       "15163        19th century                                  []   met_85658.jpg   \n",
       "15164        19th century                                  []   met_85659.jpg   \n",
       "15165         664-30 B.C.    [Late Period - Ptolemaic Period]  met_857670.jpg   \n",
       "15166  ca. 1550-1295 B.C.                       [New Kingdom]  met_905798.jpg   \n",
       "15167   100 B.C.-100 A.D.  [Ptolemaic Period or Roman Period]  met_905799.jpg   \n",
       "\n",
       "                                             description  \\\n",
       "0                        Bastet holding aegis and basket   \n",
       "1      Upper half of a woman from a pair or group statue   \n",
       "2                           Head from a figure of Osiris   \n",
       "3                                       Figure of Osiris   \n",
       "4                      Head and chest of a shabti figure   \n",
       "...                                                  ...   \n",
       "15163                                              Dress   \n",
       "15164                                              Dress   \n",
       "15165         Figure of a rearing cobra with feline head   \n",
       "15166                                Gold foil fragments   \n",
       "15167                           Unpainted linen fragment   \n",
       "\n",
       "                             dynasty                      material  \\\n",
       "0                Dynasty 26 or later                Cupreous metal   \n",
       "1                 Late Dynasty 12-13                       Granite   \n",
       "2                         Dynasty 26                     Graywacke   \n",
       "3                            unknown                Cupreous metal   \n",
       "4      late Dynasty 12 to Dynasty 13      Steatite or serpentinite   \n",
       "...                              ...                           ...   \n",
       "15163                        unknown  Cotton, metal wrapped thread   \n",
       "15164                        unknown  Cotton, metal wrapped thread   \n",
       "15165                        unknown      Bronze or cupreous alloy   \n",
       "15166                     Dynasty 18                     Gold leaf   \n",
       "15167                        unknown                         Linen   \n",
       "\n",
       "                                   object_classification  \\\n",
       "0                   [Bastet,  standing,  aegis,  basket]   \n",
       "1      [Upper half of a woman from a pair or group st...   \n",
       "2                         [Head from a figure of Osiris]   \n",
       "3                                      [figure,  Osiris]   \n",
       "4                    [Head and chest of a shabti figure]   \n",
       "...                                                  ...   \n",
       "15163                                            [Dress]   \n",
       "15164                                            [Dress]   \n",
       "15165       [Figure of a rearing cobra with feline head]   \n",
       "15166                              [gold foil fragments]   \n",
       "15167                                  [Shroud fragment]   \n",
       "\n",
       "                                     location  \\\n",
       "0                                          []   \n",
       "1                                          []   \n",
       "2                                          []   \n",
       "3                                          []   \n",
       "4                                          []   \n",
       "...                                       ...   \n",
       "15163                                      []   \n",
       "15164                                      []   \n",
       "15165                                      []   \n",
       "15166  [Dra Abu el-Naga, Upper Egypt, Thebes]   \n",
       "15167                                      []   \n",
       "\n",
       "                                                    name  \n",
       "0                        Bastet holding aegis and basket  \n",
       "1      Upper half of a woman from a pair or group statue  \n",
       "2                           Head from a figure of Osiris  \n",
       "3                                       Figure of Osiris  \n",
       "4                      Head and chest of a shabti figure  \n",
       "...                                                  ...  \n",
       "15163                                              Dress  \n",
       "15164                                              Dress  \n",
       "15165         Figure of a rearing cobra with feline head  \n",
       "15166                                Gold foil fragments  \n",
       "15167                           Unpainted linen fragment  \n",
       "\n",
       "[15168 rows x 9 columns]"
      ]
     },
     "execution_count": 28,
     "metadata": {},
     "output_type": "execute_result"
    }
   ],
   "source": [
    "df_met"
   ]
  },
  {
   "cell_type": "code",
   "execution_count": 29,
   "metadata": {},
   "outputs": [
    {
     "data": {
      "text/plain": [
       "15168"
      ]
     },
     "execution_count": 29,
     "metadata": {},
     "output_type": "execute_result"
    }
   ],
   "source": [
    "len(df_met) # lol 1000 out "
   ]
  },
  {
   "cell_type": "markdown",
   "metadata": {},
   "source": [
    "### Rosi Museum"
   ]
  },
  {
   "cell_type": "code",
   "execution_count": 30,
   "metadata": {},
   "outputs": [
    {
     "data": {
      "text/plain": [
       "Index(['Unnamed: 0', 'Title', 'Culture', 'Dynasty', 'Date', 'Period',\n",
       "       'Material', 'object_Type', 'Path'],\n",
       "      dtype='object')"
      ]
     },
     "execution_count": 30,
     "metadata": {},
     "output_type": "execute_result"
    }
   ],
   "source": [
    "df_rosi.columns"
   ]
  },
  {
   "cell_type": "code",
   "execution_count": 31,
   "metadata": {},
   "outputs": [
    {
     "data": {
      "text/plain": [
       "Culture\n",
       "Egyptian        733\n",
       "Mesopotamian     77\n",
       "Oriental          3\n",
       "Greek             1\n",
       "Name: count, dtype: int64"
      ]
     },
     "execution_count": 31,
     "metadata": {},
     "output_type": "execute_result"
    }
   ],
   "source": [
    "df_rosi[\"Culture\"].value_counts()"
   ]
  },
  {
   "cell_type": "code",
   "execution_count": 32,
   "metadata": {},
   "outputs": [],
   "source": [
    "#df_rosi= df_rosi[df_rosi[\"Culture\"] == 'Egyptian']"
   ]
  },
  {
   "cell_type": "code",
   "execution_count": 33,
   "metadata": {},
   "outputs": [],
   "source": [
    "df_rosi = df_rosi.drop(columns=['Unnamed: 0', 'Culture'])"
   ]
  },
  {
   "cell_type": "code",
   "execution_count": 34,
   "metadata": {},
   "outputs": [
    {
     "data": {
      "text/html": [
       "<div>\n",
       "<style scoped>\n",
       "    .dataframe tbody tr th:only-of-type {\n",
       "        vertical-align: middle;\n",
       "    }\n",
       "\n",
       "    .dataframe tbody tr th {\n",
       "        vertical-align: top;\n",
       "    }\n",
       "\n",
       "    .dataframe thead th {\n",
       "        text-align: right;\n",
       "    }\n",
       "</style>\n",
       "<table border=\"1\" class=\"dataframe\">\n",
       "  <thead>\n",
       "    <tr style=\"text-align: right;\">\n",
       "      <th></th>\n",
       "      <th>Title</th>\n",
       "      <th>Dynasty</th>\n",
       "      <th>Date</th>\n",
       "      <th>Period</th>\n",
       "      <th>Material</th>\n",
       "      <th>object_Type</th>\n",
       "      <th>Path</th>\n",
       "    </tr>\n",
       "  </thead>\n",
       "  <tbody>\n",
       "    <tr>\n",
       "      <th>0</th>\n",
       "      <td>RC-1 - Sekhmet Statue</td>\n",
       "      <td>NaN</td>\n",
       "      <td>332-30 BCE</td>\n",
       "      <td>Ptolemaic</td>\n",
       "      <td>Bronze</td>\n",
       "      <td>Sculpture</td>\n",
       "      <td>ros_789.jpg</td>\n",
       "    </tr>\n",
       "    <tr>\n",
       "      <th>1</th>\n",
       "      <td>RC-2 - Harpocrates</td>\n",
       "      <td>NaN</td>\n",
       "      <td>305 - 30 BCE</td>\n",
       "      <td>Ptolemaic</td>\n",
       "      <td>Bronze</td>\n",
       "      <td>Sculpture</td>\n",
       "      <td>ros_931.jpg</td>\n",
       "    </tr>\n",
       "    <tr>\n",
       "      <th>2</th>\n",
       "      <td>RC-3 - Osiris</td>\n",
       "      <td>NaN</td>\n",
       "      <td>332 - 31 BCE</td>\n",
       "      <td>Ptolemaic</td>\n",
       "      <td>Bronze</td>\n",
       "      <td>Sculpture</td>\n",
       "      <td>ros_365.jpg</td>\n",
       "    </tr>\n",
       "    <tr>\n",
       "      <th>3</th>\n",
       "      <td>RC-4 - Khonsu</td>\n",
       "      <td>NaN</td>\n",
       "      <td>332 - 30 BCE</td>\n",
       "      <td>Ptolemaic</td>\n",
       "      <td>Bronze</td>\n",
       "      <td>Sculpture</td>\n",
       "      <td>ros_774.jpg</td>\n",
       "    </tr>\n",
       "    <tr>\n",
       "      <th>4</th>\n",
       "      <td>RC-5 - Apis Bull</td>\n",
       "      <td>NaN</td>\n",
       "      <td>525 - 343 BCE</td>\n",
       "      <td>Late Period</td>\n",
       "      <td>Bronze</td>\n",
       "      <td>Sculpture</td>\n",
       "      <td>ros_913.jpg</td>\n",
       "    </tr>\n",
       "  </tbody>\n",
       "</table>\n",
       "</div>"
      ],
      "text/plain": [
       "                   Title Dynasty           Date       Period Material  \\\n",
       "0  RC-1 - Sekhmet Statue     NaN     332-30 BCE    Ptolemaic   Bronze   \n",
       "1     RC-2 - Harpocrates     NaN   305 - 30 BCE    Ptolemaic   Bronze   \n",
       "2          RC-3 - Osiris     NaN   332 - 31 BCE    Ptolemaic   Bronze   \n",
       "3          RC-4 - Khonsu     NaN   332 - 30 BCE    Ptolemaic   Bronze   \n",
       "4       RC-5 - Apis Bull     NaN  525 - 343 BCE  Late Period   Bronze   \n",
       "\n",
       "  object_Type         Path  \n",
       "0   Sculpture  ros_789.jpg  \n",
       "1   Sculpture  ros_931.jpg  \n",
       "2   Sculpture  ros_365.jpg  \n",
       "3   Sculpture  ros_774.jpg  \n",
       "4   Sculpture  ros_913.jpg  "
      ]
     },
     "execution_count": 34,
     "metadata": {},
     "output_type": "execute_result"
    }
   ],
   "source": [
    "df_rosi['Path'] = df_rosi['Path'].apply(lambda cellvalue: adjust_image_path(cellvalue, \"ros\"))\n",
    "df_rosi.head(5)"
   ]
  },
  {
   "cell_type": "code",
   "execution_count": 35,
   "metadata": {},
   "outputs": [],
   "source": [
    "df_rosi= df_rosi.rename(columns={'Title': 'name',  'Path':'path', 'Material':'material', 'Date':'date','object_Type':'object_classification', 'Period':'period', \"Dynasty\":'dynasty'})"
   ]
  },
  {
   "cell_type": "code",
   "execution_count": 36,
   "metadata": {},
   "outputs": [],
   "source": [
    "df_rosi[\"description\"]=None\n",
    "df_rosi['location'] = None"
   ]
  },
  {
   "cell_type": "code",
   "execution_count": 37,
   "metadata": {},
   "outputs": [
    {
     "data": {
      "text/html": [
       "<div>\n",
       "<style scoped>\n",
       "    .dataframe tbody tr th:only-of-type {\n",
       "        vertical-align: middle;\n",
       "    }\n",
       "\n",
       "    .dataframe tbody tr th {\n",
       "        vertical-align: top;\n",
       "    }\n",
       "\n",
       "    .dataframe thead th {\n",
       "        text-align: right;\n",
       "    }\n",
       "</style>\n",
       "<table border=\"1\" class=\"dataframe\">\n",
       "  <thead>\n",
       "    <tr style=\"text-align: right;\">\n",
       "      <th></th>\n",
       "      <th>name</th>\n",
       "      <th>dynasty</th>\n",
       "      <th>date</th>\n",
       "      <th>period</th>\n",
       "      <th>material</th>\n",
       "      <th>object_classification</th>\n",
       "      <th>path</th>\n",
       "      <th>description</th>\n",
       "      <th>location</th>\n",
       "    </tr>\n",
       "  </thead>\n",
       "  <tbody>\n",
       "    <tr>\n",
       "      <th>0</th>\n",
       "      <td>RC-1 - Sekhmet Statue</td>\n",
       "      <td>NaN</td>\n",
       "      <td>332-30 BCE</td>\n",
       "      <td>Ptolemaic</td>\n",
       "      <td>Bronze</td>\n",
       "      <td>Sculpture</td>\n",
       "      <td>ros_789.jpg</td>\n",
       "      <td>None</td>\n",
       "      <td>None</td>\n",
       "    </tr>\n",
       "    <tr>\n",
       "      <th>1</th>\n",
       "      <td>RC-2 - Harpocrates</td>\n",
       "      <td>NaN</td>\n",
       "      <td>305 - 30 BCE</td>\n",
       "      <td>Ptolemaic</td>\n",
       "      <td>Bronze</td>\n",
       "      <td>Sculpture</td>\n",
       "      <td>ros_931.jpg</td>\n",
       "      <td>None</td>\n",
       "      <td>None</td>\n",
       "    </tr>\n",
       "    <tr>\n",
       "      <th>2</th>\n",
       "      <td>RC-3 - Osiris</td>\n",
       "      <td>NaN</td>\n",
       "      <td>332 - 31 BCE</td>\n",
       "      <td>Ptolemaic</td>\n",
       "      <td>Bronze</td>\n",
       "      <td>Sculpture</td>\n",
       "      <td>ros_365.jpg</td>\n",
       "      <td>None</td>\n",
       "      <td>None</td>\n",
       "    </tr>\n",
       "    <tr>\n",
       "      <th>3</th>\n",
       "      <td>RC-4 - Khonsu</td>\n",
       "      <td>NaN</td>\n",
       "      <td>332 - 30 BCE</td>\n",
       "      <td>Ptolemaic</td>\n",
       "      <td>Bronze</td>\n",
       "      <td>Sculpture</td>\n",
       "      <td>ros_774.jpg</td>\n",
       "      <td>None</td>\n",
       "      <td>None</td>\n",
       "    </tr>\n",
       "    <tr>\n",
       "      <th>4</th>\n",
       "      <td>RC-5 - Apis Bull</td>\n",
       "      <td>NaN</td>\n",
       "      <td>525 - 343 BCE</td>\n",
       "      <td>Late Period</td>\n",
       "      <td>Bronze</td>\n",
       "      <td>Sculpture</td>\n",
       "      <td>ros_913.jpg</td>\n",
       "      <td>None</td>\n",
       "      <td>None</td>\n",
       "    </tr>\n",
       "    <tr>\n",
       "      <th>...</th>\n",
       "      <td>...</td>\n",
       "      <td>...</td>\n",
       "      <td>...</td>\n",
       "      <td>...</td>\n",
       "      <td>...</td>\n",
       "      <td>...</td>\n",
       "      <td>...</td>\n",
       "      <td>...</td>\n",
       "      <td>...</td>\n",
       "    </tr>\n",
       "    <tr>\n",
       "      <th>819</th>\n",
       "      <td>RC-297 - Ptah</td>\n",
       "      <td>NaN</td>\n",
       "      <td>NaN</td>\n",
       "      <td>NaN</td>\n",
       "      <td>Bronze</td>\n",
       "      <td>Sculpture</td>\n",
       "      <td>ros_221.jpg</td>\n",
       "      <td>None</td>\n",
       "      <td>None</td>\n",
       "    </tr>\n",
       "    <tr>\n",
       "      <th>820</th>\n",
       "      <td>RC-251 - Rameses Ii Cartouche Fragment</td>\n",
       "      <td>NaN</td>\n",
       "      <td>NaN</td>\n",
       "      <td>NaN</td>\n",
       "      <td>Granite</td>\n",
       "      <td>Epigraphy</td>\n",
       "      <td>ros_64.jpg</td>\n",
       "      <td>None</td>\n",
       "      <td>None</td>\n",
       "    </tr>\n",
       "    <tr>\n",
       "      <th>821</th>\n",
       "      <td>RC-1727 - False Door with Ibis</td>\n",
       "      <td>NaN</td>\n",
       "      <td>NaN</td>\n",
       "      <td>NaN</td>\n",
       "      <td>Limestone</td>\n",
       "      <td>Funerary</td>\n",
       "      <td>ros_536.jpg</td>\n",
       "      <td>None</td>\n",
       "      <td>None</td>\n",
       "    </tr>\n",
       "    <tr>\n",
       "      <th>822</th>\n",
       "      <td>RC-5187 - Scarab</td>\n",
       "      <td>13TH</td>\n",
       "      <td>1784-1668 BCE</td>\n",
       "      <td>2nd Intermediate</td>\n",
       "      <td>Faience</td>\n",
       "      <td>Amulets</td>\n",
       "      <td>ros_863.jpg</td>\n",
       "      <td>None</td>\n",
       "      <td>None</td>\n",
       "    </tr>\n",
       "    <tr>\n",
       "      <th>823</th>\n",
       "      <td>RC-5195 - Wedjat Eye</td>\n",
       "      <td>18TH</td>\n",
       "      <td>1570-1293 BCE</td>\n",
       "      <td>New Kingdom</td>\n",
       "      <td>Faience</td>\n",
       "      <td>Amulets</td>\n",
       "      <td>ros_337.jpg</td>\n",
       "      <td>None</td>\n",
       "      <td>None</td>\n",
       "    </tr>\n",
       "  </tbody>\n",
       "</table>\n",
       "<p>824 rows × 9 columns</p>\n",
       "</div>"
      ],
      "text/plain": [
       "                                       name dynasty           date  \\\n",
       "0                     RC-1 - Sekhmet Statue     NaN     332-30 BCE   \n",
       "1                        RC-2 - Harpocrates     NaN   305 - 30 BCE   \n",
       "2                             RC-3 - Osiris     NaN   332 - 31 BCE   \n",
       "3                             RC-4 - Khonsu     NaN   332 - 30 BCE   \n",
       "4                          RC-5 - Apis Bull     NaN  525 - 343 BCE   \n",
       "..                                      ...     ...            ...   \n",
       "819                           RC-297 - Ptah     NaN            NaN   \n",
       "820  RC-251 - Rameses Ii Cartouche Fragment     NaN            NaN   \n",
       "821          RC-1727 - False Door with Ibis     NaN            NaN   \n",
       "822                        RC-5187 - Scarab    13TH  1784-1668 BCE   \n",
       "823                    RC-5195 - Wedjat Eye    18TH  1570-1293 BCE   \n",
       "\n",
       "               period   material object_classification         path  \\\n",
       "0           Ptolemaic     Bronze             Sculpture  ros_789.jpg   \n",
       "1           Ptolemaic     Bronze             Sculpture  ros_931.jpg   \n",
       "2           Ptolemaic     Bronze             Sculpture  ros_365.jpg   \n",
       "3           Ptolemaic     Bronze             Sculpture  ros_774.jpg   \n",
       "4         Late Period     Bronze             Sculpture  ros_913.jpg   \n",
       "..                ...        ...                   ...          ...   \n",
       "819               NaN     Bronze             Sculpture  ros_221.jpg   \n",
       "820               NaN    Granite             Epigraphy   ros_64.jpg   \n",
       "821               NaN  Limestone              Funerary  ros_536.jpg   \n",
       "822  2nd Intermediate    Faience               Amulets  ros_863.jpg   \n",
       "823       New Kingdom    Faience               Amulets  ros_337.jpg   \n",
       "\n",
       "    description location  \n",
       "0          None     None  \n",
       "1          None     None  \n",
       "2          None     None  \n",
       "3          None     None  \n",
       "4          None     None  \n",
       "..          ...      ...  \n",
       "819        None     None  \n",
       "820        None     None  \n",
       "821        None     None  \n",
       "822        None     None  \n",
       "823        None     None  \n",
       "\n",
       "[824 rows x 9 columns]"
      ]
     },
     "execution_count": 37,
     "metadata": {},
     "output_type": "execute_result"
    }
   ],
   "source": [
    "df_rosi"
   ]
  },
  {
   "cell_type": "code",
   "execution_count": 38,
   "metadata": {},
   "outputs": [
    {
     "data": {
      "text/plain": [
       "824"
      ]
     },
     "execution_count": 38,
     "metadata": {},
     "output_type": "execute_result"
    }
   ],
   "source": [
    "len(df_rosi)"
   ]
  },
  {
   "cell_type": "markdown",
   "metadata": {},
   "source": [
    "## Combine\n",
    "- () Separate period into period and dynasty\n",
    "- Add again the egyptian and not egyptian"
   ]
  },
  {
   "cell_type": "code",
   "execution_count": 39,
   "metadata": {},
   "outputs": [
    {
     "name": "stdout",
     "output_type": "stream",
     "text": [
      "Columns that are different between the DataFrames: {'Unnamed: 0', 'Cultures/periods', 'Description', 'dynasty', 'description'}\n"
     ]
    }
   ],
   "source": [
    "# Get the symmetric differences between the sets of column names\n",
    "columns_difference = set(df_met.columns).symmetric_difference(df_british.columns).symmetric_difference(df_global.columns).symmetric_difference(df_rosi.columns)\n",
    "\n",
    "# Display the columns that are different between the DataFrames\n",
    "print(\"Columns that are different between the DataFrames:\", columns_difference)"
   ]
  },
  {
   "cell_type": "code",
   "execution_count": 40,
   "metadata": {},
   "outputs": [],
   "source": [
    "df_all = pd.concat([df_british, df_global, df_met, df_rosi], ignore_index=True)"
   ]
  },
  {
   "cell_type": "code",
   "execution_count": 41,
   "metadata": {},
   "outputs": [
    {
     "data": {
      "text/html": [
       "<div>\n",
       "<style scoped>\n",
       "    .dataframe tbody tr th:only-of-type {\n",
       "        vertical-align: middle;\n",
       "    }\n",
       "\n",
       "    .dataframe tbody tr th {\n",
       "        vertical-align: top;\n",
       "    }\n",
       "\n",
       "    .dataframe thead th {\n",
       "        text-align: right;\n",
       "    }\n",
       "</style>\n",
       "<table border=\"1\" class=\"dataframe\">\n",
       "  <thead>\n",
       "    <tr style=\"text-align: right;\">\n",
       "      <th></th>\n",
       "      <th>Unnamed: 0</th>\n",
       "      <th>name</th>\n",
       "      <th>object_classification</th>\n",
       "      <th>date</th>\n",
       "      <th>Description</th>\n",
       "      <th>material</th>\n",
       "      <th>Cultures/periods</th>\n",
       "      <th>path</th>\n",
       "      <th>location</th>\n",
       "      <th>period</th>\n",
       "      <th>description</th>\n",
       "      <th>dynasty</th>\n",
       "    </tr>\n",
       "  </thead>\n",
       "  <tbody>\n",
       "    <tr>\n",
       "      <th>0</th>\n",
       "      <td>0.0</td>\n",
       "      <td>ear-ring; bead</td>\n",
       "      <td>ear-ring ,  bead</td>\n",
       "      <td>1stC-3rdC (?)</td>\n",
       "      <td>Copper alloy ear-ring of thin wire with a loo...</td>\n",
       "      <td>copper alloy</td>\n",
       "      <td>NaN</td>\n",
       "      <td>bri_A_1880-3687-m.jpg</td>\n",
       "      <td>None</td>\n",
       "      <td>None</td>\n",
       "      <td>NaN</td>\n",
       "      <td>NaN</td>\n",
       "    </tr>\n",
       "    <tr>\n",
       "      <th>1</th>\n",
       "      <td>1.0</td>\n",
       "      <td>hair-pin; dress-pin</td>\n",
       "      <td>hair-pin ,  dress-pin</td>\n",
       "      <td>1stC BC-early 1stC (circa)</td>\n",
       "      <td>Copper alloy ornamental hair- or dress-pin he...</td>\n",
       "      <td>copper alloy</td>\n",
       "      <td>NaN</td>\n",
       "      <td>bri_A_1880-3711-o.jpg</td>\n",
       "      <td>None</td>\n",
       "      <td>None</td>\n",
       "      <td>NaN</td>\n",
       "      <td>NaN</td>\n",
       "    </tr>\n",
       "    <tr>\n",
       "      <th>2</th>\n",
       "      <td>2.0</td>\n",
       "      <td>hair-pin; dress-pin</td>\n",
       "      <td>hair-pin ,  dress-pin</td>\n",
       "      <td>1stC BC-early 1stC (circa)</td>\n",
       "      <td>Copper alloy ornamental hair- or dress-pin he...</td>\n",
       "      <td>copper alloy</td>\n",
       "      <td>NaN</td>\n",
       "      <td>bri_A_1880-3714-a.jpg</td>\n",
       "      <td>None</td>\n",
       "      <td>None</td>\n",
       "      <td>NaN</td>\n",
       "      <td>NaN</td>\n",
       "    </tr>\n",
       "    <tr>\n",
       "      <th>3</th>\n",
       "      <td>3.0</td>\n",
       "      <td>hair-pin; dress-pin</td>\n",
       "      <td>hair-pin ,  dress-pin</td>\n",
       "      <td>1stC BC-early 1stC (circa)</td>\n",
       "      <td>Copper alloy ornamental hair- or dress-pin he...</td>\n",
       "      <td>copper alloy</td>\n",
       "      <td>NaN</td>\n",
       "      <td>bri_A_1880-3717-f.jpg</td>\n",
       "      <td>None</td>\n",
       "      <td>None</td>\n",
       "      <td>NaN</td>\n",
       "      <td>NaN</td>\n",
       "    </tr>\n",
       "    <tr>\n",
       "      <th>4</th>\n",
       "      <td>4.0</td>\n",
       "      <td>ear-ring</td>\n",
       "      <td>ear-ring</td>\n",
       "      <td>1stC-3rdC (circa)</td>\n",
       "      <td>Cast, copper alloy hoop ear-ring bound with t...</td>\n",
       "      <td>copper alloy</td>\n",
       "      <td>NaN</td>\n",
       "      <td>bri_A_1880-3960.jpg</td>\n",
       "      <td>None</td>\n",
       "      <td>None</td>\n",
       "      <td>NaN</td>\n",
       "      <td>NaN</td>\n",
       "    </tr>\n",
       "    <tr>\n",
       "      <th>...</th>\n",
       "      <td>...</td>\n",
       "      <td>...</td>\n",
       "      <td>...</td>\n",
       "      <td>...</td>\n",
       "      <td>...</td>\n",
       "      <td>...</td>\n",
       "      <td>...</td>\n",
       "      <td>...</td>\n",
       "      <td>...</td>\n",
       "      <td>...</td>\n",
       "      <td>...</td>\n",
       "      <td>...</td>\n",
       "    </tr>\n",
       "    <tr>\n",
       "      <th>88731</th>\n",
       "      <td>NaN</td>\n",
       "      <td>RC-297 - Ptah</td>\n",
       "      <td>Sculpture</td>\n",
       "      <td>NaN</td>\n",
       "      <td>NaN</td>\n",
       "      <td>Bronze</td>\n",
       "      <td>NaN</td>\n",
       "      <td>ros_221.jpg</td>\n",
       "      <td>None</td>\n",
       "      <td>NaN</td>\n",
       "      <td>None</td>\n",
       "      <td>NaN</td>\n",
       "    </tr>\n",
       "    <tr>\n",
       "      <th>88732</th>\n",
       "      <td>NaN</td>\n",
       "      <td>RC-251 - Rameses Ii Cartouche Fragment</td>\n",
       "      <td>Epigraphy</td>\n",
       "      <td>NaN</td>\n",
       "      <td>NaN</td>\n",
       "      <td>Granite</td>\n",
       "      <td>NaN</td>\n",
       "      <td>ros_64.jpg</td>\n",
       "      <td>None</td>\n",
       "      <td>NaN</td>\n",
       "      <td>None</td>\n",
       "      <td>NaN</td>\n",
       "    </tr>\n",
       "    <tr>\n",
       "      <th>88733</th>\n",
       "      <td>NaN</td>\n",
       "      <td>RC-1727 - False Door with Ibis</td>\n",
       "      <td>Funerary</td>\n",
       "      <td>NaN</td>\n",
       "      <td>NaN</td>\n",
       "      <td>Limestone</td>\n",
       "      <td>NaN</td>\n",
       "      <td>ros_536.jpg</td>\n",
       "      <td>None</td>\n",
       "      <td>NaN</td>\n",
       "      <td>None</td>\n",
       "      <td>NaN</td>\n",
       "    </tr>\n",
       "    <tr>\n",
       "      <th>88734</th>\n",
       "      <td>NaN</td>\n",
       "      <td>RC-5187 - Scarab</td>\n",
       "      <td>Amulets</td>\n",
       "      <td>1784-1668 BCE</td>\n",
       "      <td>NaN</td>\n",
       "      <td>Faience</td>\n",
       "      <td>NaN</td>\n",
       "      <td>ros_863.jpg</td>\n",
       "      <td>None</td>\n",
       "      <td>2nd Intermediate</td>\n",
       "      <td>None</td>\n",
       "      <td>13TH</td>\n",
       "    </tr>\n",
       "    <tr>\n",
       "      <th>88735</th>\n",
       "      <td>NaN</td>\n",
       "      <td>RC-5195 - Wedjat Eye</td>\n",
       "      <td>Amulets</td>\n",
       "      <td>1570-1293 BCE</td>\n",
       "      <td>NaN</td>\n",
       "      <td>Faience</td>\n",
       "      <td>NaN</td>\n",
       "      <td>ros_337.jpg</td>\n",
       "      <td>None</td>\n",
       "      <td>New Kingdom</td>\n",
       "      <td>None</td>\n",
       "      <td>18TH</td>\n",
       "    </tr>\n",
       "  </tbody>\n",
       "</table>\n",
       "<p>88736 rows × 12 columns</p>\n",
       "</div>"
      ],
      "text/plain": [
       "       Unnamed: 0                                    name  \\\n",
       "0             0.0                          ear-ring; bead   \n",
       "1             1.0                    hair-pin; dress-pin    \n",
       "2             2.0                     hair-pin; dress-pin   \n",
       "3             3.0                     hair-pin; dress-pin   \n",
       "4             4.0                                ear-ring   \n",
       "...           ...                                     ...   \n",
       "88731         NaN                           RC-297 - Ptah   \n",
       "88732         NaN  RC-251 - Rameses Ii Cartouche Fragment   \n",
       "88733         NaN          RC-1727 - False Door with Ibis   \n",
       "88734         NaN                        RC-5187 - Scarab   \n",
       "88735         NaN                    RC-5195 - Wedjat Eye   \n",
       "\n",
       "         object_classification                          date  \\\n",
       "0            ear-ring ,  bead                  1stC-3rdC (?)   \n",
       "1       hair-pin ,  dress-pin    1stC BC-early 1stC (circa)    \n",
       "2       hair-pin ,  dress-pin     1stC BC-early 1stC (circa)   \n",
       "3       hair-pin ,  dress-pin     1stC BC-early 1stC (circa)   \n",
       "4                     ear-ring             1stC-3rdC (circa)   \n",
       "...                        ...                           ...   \n",
       "88731                Sculpture                           NaN   \n",
       "88732                Epigraphy                           NaN   \n",
       "88733                 Funerary                           NaN   \n",
       "88734                  Amulets                 1784-1668 BCE   \n",
       "88735                  Amulets                 1570-1293 BCE   \n",
       "\n",
       "                                             Description      material  \\\n",
       "0       Copper alloy ear-ring of thin wire with a loo...  copper alloy   \n",
       "1       Copper alloy ornamental hair- or dress-pin he...  copper alloy   \n",
       "2       Copper alloy ornamental hair- or dress-pin he...  copper alloy   \n",
       "3       Copper alloy ornamental hair- or dress-pin he...  copper alloy   \n",
       "4       Cast, copper alloy hoop ear-ring bound with t...  copper alloy   \n",
       "...                                                  ...           ...   \n",
       "88731                                                NaN        Bronze   \n",
       "88732                                                NaN       Granite   \n",
       "88733                                                NaN     Limestone   \n",
       "88734                                                NaN       Faience   \n",
       "88735                                                NaN       Faience   \n",
       "\n",
       "      Cultures/periods                   path location            period  \\\n",
       "0                  NaN  bri_A_1880-3687-m.jpg     None              None   \n",
       "1                  NaN  bri_A_1880-3711-o.jpg     None              None   \n",
       "2                  NaN  bri_A_1880-3714-a.jpg     None              None   \n",
       "3                  NaN  bri_A_1880-3717-f.jpg     None              None   \n",
       "4                  NaN    bri_A_1880-3960.jpg     None              None   \n",
       "...                ...                    ...      ...               ...   \n",
       "88731              NaN            ros_221.jpg     None               NaN   \n",
       "88732              NaN             ros_64.jpg     None               NaN   \n",
       "88733              NaN            ros_536.jpg     None               NaN   \n",
       "88734              NaN            ros_863.jpg     None  2nd Intermediate   \n",
       "88735              NaN            ros_337.jpg     None       New Kingdom   \n",
       "\n",
       "      description dynasty  \n",
       "0             NaN     NaN  \n",
       "1             NaN     NaN  \n",
       "2             NaN     NaN  \n",
       "3             NaN     NaN  \n",
       "4             NaN     NaN  \n",
       "...           ...     ...  \n",
       "88731        None     NaN  \n",
       "88732        None     NaN  \n",
       "88733        None     NaN  \n",
       "88734        None    13TH  \n",
       "88735        None    18TH  \n",
       "\n",
       "[88736 rows x 12 columns]"
      ]
     },
     "execution_count": 41,
     "metadata": {},
     "output_type": "execute_result"
    }
   ],
   "source": [
    "df_all"
   ]
  },
  {
   "cell_type": "code",
   "execution_count": 42,
   "metadata": {},
   "outputs": [],
   "source": [
    "df_all.to_csv(\"trial_cleaning1.csv\")"
   ]
  },
  {
   "cell_type": "code",
   "execution_count": 43,
   "metadata": {},
   "outputs": [
    {
     "name": "stdout",
     "output_type": "stream",
     "text": [
      "<class 'pandas.core.frame.DataFrame'>\n",
      "RangeIndex: 88736 entries, 0 to 88735\n",
      "Data columns (total 12 columns):\n",
      " #   Column                 Non-Null Count  Dtype  \n",
      "---  ------                 --------------  -----  \n",
      " 0   Unnamed: 0             56835 non-null  float64\n",
      " 1   name                   84362 non-null  object \n",
      " 2   object_classification  88659 non-null  object \n",
      " 3   date                   49457 non-null  object \n",
      " 4   Description            56835 non-null  object \n",
      " 5   material               87965 non-null  object \n",
      " 6   Cultures/periods       50528 non-null  object \n",
      " 7   path                   88736 non-null  object \n",
      " 8   location               31077 non-null  object \n",
      " 9   period                 31698 non-null  object \n",
      " 10  description            26071 non-null  object \n",
      " 11  dynasty                15518 non-null  object \n",
      "dtypes: float64(1), object(11)\n",
      "memory usage: 8.1+ MB\n"
     ]
    }
   ],
   "source": [
    "df_all.info()"
   ]
  },
  {
   "cell_type": "markdown",
   "metadata": {},
   "source": [
    "### `1. Name`"
   ]
  },
  {
   "cell_type": "code",
   "execution_count": 44,
   "metadata": {},
   "outputs": [],
   "source": [
    "def clean_column(column):\n",
    "    # Convert to lowercase\n",
    "    column = column.str.lower()\n",
    "\n",
    "    # Remove anything within brackets\n",
    "    column = column.str.replace(r'\\(.*\\)', '', regex=True)\n",
    "\n",
    "    # Remove commas and semicolons\n",
    "    column = column.str.replace('[,;]', '', regex=True)\n",
    "\n",
    "    column = column.str.replace('[/]', ' ', regex=True)\n",
    "\n",
    "    return column\n",
    "\n",
    "# Example usage:\n",
    "df_all['name'] = clean_column(df_all['name'])"
   ]
  },
  {
   "cell_type": "markdown",
   "metadata": {},
   "source": [
    "### `2. Object Classification`\n",
    "for later => try to collect similar items or synonymns together"
   ]
  },
  {
   "cell_type": "code",
   "execution_count": 45,
   "metadata": {},
   "outputs": [
    {
     "data": {
      "text/plain": [
       "object_classification\n",
       "coin                           6840\n",
       "shabti                         3797\n",
       "figure                         2883\n",
       "papyrus                        2630\n",
       "ostracon                       2553\n",
       "transport amphora              2316\n",
       "amulet                         1851\n",
       "vessel                         1675\n",
       "bowl                           1514\n",
       "figurine                       1453\n",
       "[Textile fragment]             1424\n",
       "scarab                         1389\n",
       "stela                          1280\n",
       "chalice                        1270\n",
       "print                          1186\n",
       "vase                           1117\n",
       "statue                         1058\n",
       "tablet                          986\n",
       "weight                          933\n",
       "jar                             920\n",
       " ostracon ,  vessel             712\n",
       "bead                            659\n",
       "ionian cup                      609\n",
       "relief                          586\n",
       "[Sealing]                       580\n",
       "digital photograph (colour)     564\n",
       "cup                             548\n",
       "arrow-head                      539\n",
       "coffin                          501\n",
       "lamp                            477\n",
       "plate                           444\n",
       "[Fragment]                      405\n",
       "[Scarab]                        395\n",
       "canopic jar                     351\n",
       "coptic textile                  337\n",
       "amphora                         327\n",
       "necklace                        321\n",
       "human figurine                  319\n",
       "dish                            292\n",
       "animal                          290\n",
       " drawing ,  print study         287\n",
       "kantharos                       285\n",
       "mummy-label                     278\n",
       "[Shabti,  worker,  Nauny]       257\n",
       "net-sinker                      254\n",
       "postcard                        245\n",
       "drawing                         242\n",
       " amulet ,  figure               242\n",
       "cowroid                         236\n",
       "column krater                   233\n",
       "Name: count, dtype: int64"
      ]
     },
     "execution_count": 45,
     "metadata": {},
     "output_type": "execute_result"
    }
   ],
   "source": [
    "df_all['object_classification'].value_counts().head(50)"
   ]
  },
  {
   "cell_type": "code",
   "execution_count": 46,
   "metadata": {},
   "outputs": [],
   "source": [
    "import ast  # For literal_eval function\n",
    "def clean_and_extract_first_value(column):\n",
    "    # Convert to lowercase\n",
    "    column = column.str.lower()\n",
    "\n",
    "    # Convert string representations of lists to actual lists\n",
    "    column = column.apply(lambda x: ast.literal_eval(x) if isinstance(x, str) and '[' in x else x)\n",
    "\n",
    "    # If the cell is a list, take only the first value\n",
    "    column = column.apply(lambda x: x[0] if isinstance(x, list) else x)\n",
    "\n",
    "    # Remove anything within brackets\n",
    "    column = column.str.replace(r'\\(.*\\)', '', regex=True)\n",
    "\n",
    "    # Remove leading and trailing spaces\n",
    "    column = column.str.strip()\n",
    "\n",
    "    return column\n",
    "\n",
    "# Example usage:\n",
    "# Assuming df is your DataFrame and 'YourColumn' is the column you want to clean\n",
    "df_all['object_classification'] = clean_and_extract_first_value(df_all['object_classification'])"
   ]
  },
  {
   "cell_type": "code",
   "execution_count": 47,
   "metadata": {},
   "outputs": [],
   "source": [
    "x = df_all['object_classification'].value_counts()\n",
    "x.to_csv(\"frequency\\object_trial.csv\")"
   ]
  },
  {
   "cell_type": "code",
   "execution_count": 48,
   "metadata": {},
   "outputs": [
    {
     "data": {
      "text/plain": [
       "<BarContainer object of 50 artists>"
      ]
     },
     "execution_count": 48,
     "metadata": {},
     "output_type": "execute_result"
    },
    {
     "data": {
      "image/png": "[encoded data removed]",
      "text/plain": [
       "<Figure size 1200x800 with 1 Axes>"
      ]
     },
     "metadata": {},
     "output_type": "display_data"
    }
   ],
   "source": [
    "x =df_all['object_classification'].value_counts()\n",
    "import matplotlib.pyplot as plt\n",
    "plt.figure(figsize=(12,8))\n",
    "plt.xticks(rotation=90)\n",
    "plt.bar(x = x.index[0:50] ,  height= x.values[0:50])"
   ]
  },
  {
   "cell_type": "code",
   "execution_count": 49,
   "metadata": {},
   "outputs": [
    {
     "data": {
      "text/html": [
       "<div>\n",
       "<style scoped>\n",
       "    .dataframe tbody tr th:only-of-type {\n",
       "        vertical-align: middle;\n",
       "    }\n",
       "\n",
       "    .dataframe tbody tr th {\n",
       "        vertical-align: top;\n",
       "    }\n",
       "\n",
       "    .dataframe thead th {\n",
       "        text-align: right;\n",
       "    }\n",
       "</style>\n",
       "<table border=\"1\" class=\"dataframe\">\n",
       "  <thead>\n",
       "    <tr style=\"text-align: right;\">\n",
       "      <th></th>\n",
       "      <th>Unnamed: 0</th>\n",
       "      <th>name</th>\n",
       "      <th>object_classification</th>\n",
       "      <th>date</th>\n",
       "      <th>Description</th>\n",
       "      <th>material</th>\n",
       "      <th>Cultures/periods</th>\n",
       "      <th>path</th>\n",
       "      <th>location</th>\n",
       "      <th>period</th>\n",
       "      <th>description</th>\n",
       "      <th>dynasty</th>\n",
       "    </tr>\n",
       "  </thead>\n",
       "  <tbody>\n",
       "    <tr>\n",
       "      <th>8843</th>\n",
       "      <td>8843.0</td>\n",
       "      <td>amphora</td>\n",
       "      <td>amphora</td>\n",
       "      <td>535BC (circa)</td>\n",
       "      <td>[Text from BM catalogue of vases] Pottery: bl...</td>\n",
       "      <td>pottery</td>\n",
       "      <td>[' Attic ', ' Archaic Greek ']</td>\n",
       "      <td>bri_G_1849-0518-10.jpg</td>\n",
       "      <td>None</td>\n",
       "      <td>None</td>\n",
       "      <td>NaN</td>\n",
       "      <td>NaN</td>\n",
       "    </tr>\n",
       "    <tr>\n",
       "      <th>9205</th>\n",
       "      <td>9205.0</td>\n",
       "      <td>amphora</td>\n",
       "      <td>amphora</td>\n",
       "      <td>6thC-7thC</td>\n",
       "      <td>Pottery amphora for wine.</td>\n",
       "      <td>pottery</td>\n",
       "      <td>['Roman']</td>\n",
       "      <td>bri_G_1883-1124-34.jpg</td>\n",
       "      <td>None</td>\n",
       "      <td>None</td>\n",
       "      <td>NaN</td>\n",
       "      <td>NaN</td>\n",
       "    </tr>\n",
       "    <tr>\n",
       "      <th>9270</th>\n",
       "      <td>9270.0</td>\n",
       "      <td>amphora</td>\n",
       "      <td>amphora</td>\n",
       "      <td>610BC-580Bc (circa)</td>\n",
       "      <td>Shoulder and body sherd (mended from four fra...</td>\n",
       "      <td>pottery</td>\n",
       "      <td>[' East Greek ', ' Archaic Greek ']</td>\n",
       "      <td>bri_G_1886-0401-1050.jpg</td>\n",
       "      <td>None</td>\n",
       "      <td>None</td>\n",
       "      <td>NaN</td>\n",
       "      <td>NaN</td>\n",
       "    </tr>\n",
       "    <tr>\n",
       "      <th>9330</th>\n",
       "      <td>9330.0</td>\n",
       "      <td>amphora</td>\n",
       "      <td>amphora</td>\n",
       "      <td>600BC-575BC (circa)</td>\n",
       "      <td>Body sherd (mended from two fragments) of Att...</td>\n",
       "      <td>pottery</td>\n",
       "      <td>[' Attic ', ' Archaic Greek ']</td>\n",
       "      <td>bri_G_1886-0401-1100.jpg</td>\n",
       "      <td>None</td>\n",
       "      <td>None</td>\n",
       "      <td>NaN</td>\n",
       "      <td>NaN</td>\n",
       "    </tr>\n",
       "    <tr>\n",
       "      <th>9336</th>\n",
       "      <td>9336.0</td>\n",
       "      <td>amphora</td>\n",
       "      <td>amphora</td>\n",
       "      <td>600BC-575BC (circa)</td>\n",
       "      <td>Body sherd of Attic black-figured pottery clo...</td>\n",
       "      <td>pottery</td>\n",
       "      <td>[' Attic ', ' Archaic Greek ']</td>\n",
       "      <td>bri_G_1886-0401-1106.jpg</td>\n",
       "      <td>None</td>\n",
       "      <td>None</td>\n",
       "      <td>NaN</td>\n",
       "      <td>NaN</td>\n",
       "    </tr>\n",
       "    <tr>\n",
       "      <th>...</th>\n",
       "      <td>...</td>\n",
       "      <td>...</td>\n",
       "      <td>...</td>\n",
       "      <td>...</td>\n",
       "      <td>...</td>\n",
       "      <td>...</td>\n",
       "      <td>...</td>\n",
       "      <td>...</td>\n",
       "      <td>...</td>\n",
       "      <td>...</td>\n",
       "      <td>...</td>\n",
       "      <td>...</td>\n",
       "    </tr>\n",
       "    <tr>\n",
       "      <th>70978</th>\n",
       "      <td>NaN</td>\n",
       "      <td>amphora</td>\n",
       "      <td>amphora</td>\n",
       "      <td>None</td>\n",
       "      <td>NaN</td>\n",
       "      <td>clay</td>\n",
       "      <td>NaN</td>\n",
       "      <td>glo_8408.jpg</td>\n",
       "      <td>masmas:-nag`gamus</td>\n",
       "      <td>meroitic period</td>\n",
       "      <td>pottery amphora, truncate cone-shaped, with a ...</td>\n",
       "      <td>None</td>\n",
       "    </tr>\n",
       "    <tr>\n",
       "      <th>70990</th>\n",
       "      <td>NaN</td>\n",
       "      <td>amphora</td>\n",
       "      <td>amphora</td>\n",
       "      <td>None</td>\n",
       "      <td>NaN</td>\n",
       "      <td>clay</td>\n",
       "      <td>NaN</td>\n",
       "      <td>glo_8419.jpg</td>\n",
       "      <td>masmas:-nag`gamus</td>\n",
       "      <td>meroitic period</td>\n",
       "      <td>amphora with lateral handles. it has a narrow ...</td>\n",
       "      <td>None</td>\n",
       "    </tr>\n",
       "    <tr>\n",
       "      <th>71583</th>\n",
       "      <td>NaN</td>\n",
       "      <td>NaN</td>\n",
       "      <td>amphora</td>\n",
       "      <td>None</td>\n",
       "      <td>NaN</td>\n",
       "      <td>pottery</td>\n",
       "      <td>NaN</td>\n",
       "      <td>glo_8953.jpg</td>\n",
       "      <td>el-hiba</td>\n",
       "      <td>graeco-roman period</td>\n",
       "      <td>NaN</td>\n",
       "      <td>None</td>\n",
       "    </tr>\n",
       "    <tr>\n",
       "      <th>71803</th>\n",
       "      <td>NaN</td>\n",
       "      <td>NaN</td>\n",
       "      <td>amphora</td>\n",
       "      <td>None</td>\n",
       "      <td>NaN</td>\n",
       "      <td>sandstone</td>\n",
       "      <td>NaN</td>\n",
       "      <td>glo_9151.jpg</td>\n",
       "      <td>el-sheikh `abada</td>\n",
       "      <td>coptic period</td>\n",
       "      <td>NaN</td>\n",
       "      <td>None</td>\n",
       "    </tr>\n",
       "    <tr>\n",
       "      <th>71825</th>\n",
       "      <td>NaN</td>\n",
       "      <td>NaN</td>\n",
       "      <td>amphora</td>\n",
       "      <td>None</td>\n",
       "      <td>NaN</td>\n",
       "      <td>fiber</td>\n",
       "      <td>NaN</td>\n",
       "      <td>glo_9171.jpg</td>\n",
       "      <td>el-sheikh `abada</td>\n",
       "      <td>coptic period</td>\n",
       "      <td>NaN</td>\n",
       "      <td>None</td>\n",
       "    </tr>\n",
       "  </tbody>\n",
       "</table>\n",
       "<p>546 rows × 12 columns</p>\n",
       "</div>"
      ],
      "text/plain": [
       "       Unnamed: 0     name object_classification                 date  \\\n",
       "8843       8843.0  amphora               amphora        535BC (circa)   \n",
       "9205       9205.0  amphora               amphora            6thC-7thC   \n",
       "9270       9270.0  amphora               amphora  610BC-580Bc (circa)   \n",
       "9330       9330.0  amphora               amphora  600BC-575BC (circa)   \n",
       "9336       9336.0  amphora               amphora  600BC-575BC (circa)   \n",
       "...           ...      ...                   ...                  ...   \n",
       "70978         NaN  amphora               amphora                 None   \n",
       "70990         NaN  amphora               amphora                 None   \n",
       "71583         NaN      NaN               amphora                 None   \n",
       "71803         NaN      NaN               amphora                 None   \n",
       "71825         NaN      NaN               amphora                 None   \n",
       "\n",
       "                                             Description   material  \\\n",
       "8843    [Text from BM catalogue of vases] Pottery: bl...    pottery   \n",
       "9205                          Pottery amphora for wine.     pottery   \n",
       "9270    Shoulder and body sherd (mended from four fra...    pottery   \n",
       "9330    Body sherd (mended from two fragments) of Att...    pottery   \n",
       "9336    Body sherd of Attic black-figured pottery clo...    pottery   \n",
       "...                                                  ...        ...   \n",
       "70978                                                NaN       clay   \n",
       "70990                                                NaN       clay   \n",
       "71583                                                NaN    pottery   \n",
       "71803                                                NaN  sandstone   \n",
       "71825                                                NaN      fiber   \n",
       "\n",
       "                          Cultures/periods                      path  \\\n",
       "8843        [' Attic ', ' Archaic Greek ']    bri_G_1849-0518-10.jpg   \n",
       "9205                             ['Roman']    bri_G_1883-1124-34.jpg   \n",
       "9270   [' East Greek ', ' Archaic Greek ']  bri_G_1886-0401-1050.jpg   \n",
       "9330        [' Attic ', ' Archaic Greek ']  bri_G_1886-0401-1100.jpg   \n",
       "9336        [' Attic ', ' Archaic Greek ']  bri_G_1886-0401-1106.jpg   \n",
       "...                                    ...                       ...   \n",
       "70978                                  NaN              glo_8408.jpg   \n",
       "70990                                  NaN              glo_8419.jpg   \n",
       "71583                                  NaN              glo_8953.jpg   \n",
       "71803                                  NaN              glo_9151.jpg   \n",
       "71825                                  NaN              glo_9171.jpg   \n",
       "\n",
       "                location               period  \\\n",
       "8843                None                 None   \n",
       "9205                None                 None   \n",
       "9270                None                 None   \n",
       "9330                None                 None   \n",
       "9336                None                 None   \n",
       "...                  ...                  ...   \n",
       "70978  masmas:-nag`gamus      meroitic period   \n",
       "70990  masmas:-nag`gamus      meroitic period   \n",
       "71583            el-hiba  graeco-roman period   \n",
       "71803   el-sheikh `abada        coptic period   \n",
       "71825   el-sheikh `abada        coptic period   \n",
       "\n",
       "                                             description dynasty  \n",
       "8843                                                 NaN     NaN  \n",
       "9205                                                 NaN     NaN  \n",
       "9270                                                 NaN     NaN  \n",
       "9330                                                 NaN     NaN  \n",
       "9336                                                 NaN     NaN  \n",
       "...                                                  ...     ...  \n",
       "70978  pottery amphora, truncate cone-shaped, with a ...    None  \n",
       "70990  amphora with lateral handles. it has a narrow ...    None  \n",
       "71583                                                NaN    None  \n",
       "71803                                                NaN    None  \n",
       "71825                                                NaN    None  \n",
       "\n",
       "[546 rows x 12 columns]"
      ]
     },
     "execution_count": 49,
     "metadata": {},
     "output_type": "execute_result"
    }
   ],
   "source": [
    "only_shabti = df_all[df_all['object_classification'] == 'amphora']\n",
    "only_shabti\n",
    "#only_shabti.iloc[-1]"
   ]
  },
  {
   "cell_type": "markdown",
   "metadata": {},
   "source": [
    "### `3. date`\n",
    "- combine similar and dates and synon.\n",
    "- You well combine the dates that are between, for example find the largest interval and combine."
   ]
  },
  {
   "cell_type": "code",
   "execution_count": 50,
   "metadata": {},
   "outputs": [
    {
     "data": {
      "text/plain": [
       "date\n",
       "ca. 1390-1352 B.C.     1038\n",
       "6500BC-6000BC           777\n",
       "ca. 1479-1458 B.C.      768\n",
       "ca. 1981-1640 B.C.      552\n",
       "575BC-550BC (circa)     542\n",
       "                       ... \n",
       "450BC-375BC (?)           1\n",
       "510BC–500BC               1\n",
       "225BC - 100 BC            1\n",
       "130 BC to 110 BC          1\n",
       "1784-1668 BCE             1\n",
       "Name: count, Length: 7100, dtype: int64"
      ]
     },
     "execution_count": 50,
     "metadata": {},
     "output_type": "execute_result"
    }
   ],
   "source": [
    "df_all['date'].value_counts()"
   ]
  },
  {
   "cell_type": "code",
   "execution_count": 51,
   "metadata": {},
   "outputs": [],
   "source": [
    "y =df_all['date'].value_counts()\n",
    "#y.to_csv(\"date_trial.csv\")"
   ]
  },
  {
   "cell_type": "code",
   "execution_count": 52,
   "metadata": {},
   "outputs": [],
   "source": [
    "import pandas as pd\n",
    "import re\n",
    "\n",
    "def clean_date(cell):\n",
    "    # Check if the cell is a valid string\n",
    "    if isinstance(cell, str):\n",
    "        # Remove \"ca.\" and \".\"\n",
    "        cleaned_cell = re.sub(r'ca\\.|\\.', '', cell)\n",
    "        \n",
    "        # Remove brackets and what they contain\n",
    "        cleaned_cell = re.sub(r'\\([^)]*\\)', '', cleaned_cell)\n",
    "        \n",
    "        # Replace \"bce\" with \"bc\"\n",
    "        cleaned_cell = cleaned_cell.replace('BCE', 'BC')\n",
    "        # Make all lowercase\n",
    "        cleaned_cell = cleaned_cell.lower()\n",
    "\n",
    "        # Replace \"bce\" with \"bc\"\n",
    "        cleaned_cell = cleaned_cell.replace('bce', 'bc')\n",
    "\n",
    "        # Replace \"bce\" with \"bc\"\n",
    "        cleaned_cell = cleaned_cell.replace(' - ', '-')\n",
    "        \n",
    "        # Remove leading and trailing spaces\n",
    "        cleaned_cell = cleaned_cell.strip()\n",
    "        \n",
    "        return cleaned_cell\n",
    "    else:\n",
    "        return cell  # Return the original value if not a string\n",
    "\n",
    "# Apply the function to the specified column\n",
    "df_all['date'] = df_all['date'].apply(clean_date)"
   ]
  },
  {
   "cell_type": "code",
   "execution_count": 53,
   "metadata": {},
   "outputs": [],
   "source": [
    "y =df_all['date'].value_counts()\n",
    "y.to_csv(\"frequency\\date_trial.csv\")"
   ]
  },
  {
   "cell_type": "code",
   "execution_count": 54,
   "metadata": {},
   "outputs": [
    {
     "data": {
      "text/plain": [
       "date\n",
       "1390-1352 bc      1039\n",
       "6500bc-6000bc      777\n",
       "1479-1458 bc       768\n",
       "600 bc-570 bc      657\n",
       "575bc-550bc        610\n",
       "                  ... \n",
       "1070 bc-653 bc       1\n",
       "332bc-641ad          1\n",
       "31 bc-300 ad         1\n",
       "630 bc- 525 bc       1\n",
       "1784-1668 bc         1\n",
       "Name: count, Length: 5246, dtype: int64"
      ]
     },
     "execution_count": 54,
     "metadata": {},
     "output_type": "execute_result"
    }
   ],
   "source": [
    "y"
   ]
  },
  {
   "cell_type": "code",
   "execution_count": 55,
   "metadata": {},
   "outputs": [
    {
     "data": {
      "text/plain": [
       "<BarContainer object of 50 artists>"
      ]
     },
     "execution_count": 55,
     "metadata": {},
     "output_type": "execute_result"
    },
    {
     "data": {
      "image/png": "[encoded data removed]",
      "text/plain": [
       "<Figure size 1200x800 with 1 Axes>"
      ]
     },
     "metadata": {},
     "output_type": "display_data"
    }
   ],
   "source": [
    "import matplotlib.pyplot as plt\n",
    "plt.figure(figsize=(12,8))\n",
    "plt.xticks(rotation=90)\n",
    "plt.bar(x = y.index[0:50] ,  height= y.values[0:50])"
   ]
  },
  {
   "cell_type": "markdown",
   "metadata": {},
   "source": [
    "### `4. Description`"
   ]
  },
  {
   "cell_type": "code",
   "execution_count": 56,
   "metadata": {},
   "outputs": [],
   "source": [
    "# Example usage:\n",
    "df_all['description'] = clean_column(df_all['description'])"
   ]
  },
  {
   "cell_type": "markdown",
   "metadata": {},
   "source": [
    "### `5. material`"
   ]
  },
  {
   "cell_type": "code",
   "execution_count": 59,
   "metadata": {},
   "outputs": [
    {
     "data": {
      "text/plain": [
       "Index(['Unnamed: 0', 'name', 'object_classification', 'date', 'Description',\n",
       "       'material', 'Cultures/periods', 'path', 'location', 'period',\n",
       "       'description', 'dynasty'],\n",
       "      dtype='object')"
      ]
     },
     "execution_count": 59,
     "metadata": {},
     "output_type": "execute_result"
    }
   ],
   "source": [
    "df_all.columns"
   ]
  },
  {
   "cell_type": "code",
   "execution_count": 60,
   "metadata": {},
   "outputs": [],
   "source": [
    "y =df_all['material'].value_counts()\n",
    "#y.to_csv(\"material_trial.csv\")"
   ]
  },
  {
   "cell_type": "code",
   "execution_count": 61,
   "metadata": {},
   "outputs": [
    {
     "data": {
      "text/plain": [
       "material\n",
       "pottery                                 20928\n",
       "copper alloy                             4743\n",
       "limestone                                4559\n",
       "glazed composition                       3766\n",
       "papyrus                                  2709\n",
       "                                        ...  \n",
       " horn ,  wood ,  palm fibre                 1\n",
       " bronze ,  wood ,  leather ,  linen         1\n",
       " bronze ,  wood (Ziziphus)                  1\n",
       " bronze ,  wood ,  linen ,  leather         1\n",
       "Dried Bugs                                  1\n",
       "Name: count, Length: 3162, dtype: int64"
      ]
     },
     "execution_count": 61,
     "metadata": {},
     "output_type": "execute_result"
    }
   ],
   "source": [
    "y"
   ]
  },
  {
   "cell_type": "code",
   "execution_count": 62,
   "metadata": {},
   "outputs": [],
   "source": [
    "def clean_matrial_dynasty(column):\n",
    "   # Remove content within parentheses\n",
    "    column = column.str.replace(r'\\([^)]*\\)', '', regex=True)\n",
    "    \n",
    "    # Remove question marks\n",
    "    column = column.str.replace('?', '')\n",
    "\n",
    "     # Remove question marks\n",
    "    column = column.str.replace('\"', '')\n",
    "    \n",
    "    # Take only the first value if there is a cell with \",\"\n",
    "    column = column.str.split(',').str[0]\n",
    "    # Remove question marks\n",
    "    column = column.str.replace('\"', '')\n",
    "\n",
    "    # Remove question marks\n",
    "    column = column.str.replace(' )', '')\n",
    "\n",
    "\n",
    "    # Remove leading and trailing spaces\n",
    "    column = column.str.strip()\n",
    "\n",
    "    # Convert all letters to lowercase\n",
    "    column = column.str.lower()\n",
    "    \n",
    "    return column\n",
    "# Example: Apply the function to a specific column in your DataFrame\n",
    "df_all['material'] = clean_matrial_dynasty(df_all['material'])"
   ]
  },
  {
   "cell_type": "code",
   "execution_count": 63,
   "metadata": {},
   "outputs": [],
   "source": [
    "y = df_all['material'].value_counts()\n",
    "y.to_csv(\"frequency\\material_trial2.csv\")"
   ]
  },
  {
   "cell_type": "code",
   "execution_count": 64,
   "metadata": {},
   "outputs": [
    {
     "data": {
      "text/plain": [
       "material\n",
       "pottery                        21999\n",
       "limestone                       6110\n",
       "copper alloy                    4887\n",
       "faience                         4726\n",
       "glazed composition              3896\n",
       "                               ...  \n",
       "cow hide                           1\n",
       "cream-white glazed steatite        1\n",
       "red breccia                        1\n",
       "terracotta painted brown           1\n",
       "dried bugs                         1\n",
       "Name: count, Length: 791, dtype: int64"
      ]
     },
     "execution_count": 64,
     "metadata": {},
     "output_type": "execute_result"
    }
   ],
   "source": [
    "y"
   ]
  },
  {
   "cell_type": "code",
   "execution_count": 65,
   "metadata": {},
   "outputs": [
    {
     "data": {
      "text/plain": [
       "<BarContainer object of 50 artists>"
      ]
     },
     "execution_count": 65,
     "metadata": {},
     "output_type": "execute_result"
    },
    {
     "data": {
      "image/png": "[encoded data removed]",
      "text/plain": [
       "<Figure size 1200x800 with 1 Axes>"
      ]
     },
     "metadata": {},
     "output_type": "display_data"
    }
   ],
   "source": [
    "yy =df_all['material'].value_counts()\n",
    "import matplotlib.pyplot as plt\n",
    "plt.figure(figsize=(12,8))\n",
    "plt.xticks(rotation=90)\n",
    "plt.bar(x = yy.index[0:50] ,  height= yy.values[0:50])"
   ]
  },
  {
   "cell_type": "markdown",
   "metadata": {},
   "source": [
    "### `6. dynasty`"
   ]
  },
  {
   "cell_type": "code",
   "execution_count": 66,
   "metadata": {},
   "outputs": [],
   "source": [
    "\n",
    "y = df_all[\"dynasty\"].value_counts()\n",
    "#y.to_csv(\"dynasty_trial.csv\")"
   ]
  },
  {
   "cell_type": "code",
   "execution_count": 67,
   "metadata": {},
   "outputs": [
    {
     "data": {
      "text/plain": [
       "dynasty\n",
       "unknown                5420\n",
       "Dynasty 18             3172\n",
       "Dynasty 12-13           922\n",
       "Dynasty 21              781\n",
       "Dynasty 12              739\n",
       "                       ... \n",
       "Dynasty 29                1\n",
       "Probably Dynasty 26       1\n",
       "Dynasty 25-29             1\n",
       "Dynasty 19-25             1\n",
       "13TH                      1\n",
       "Name: count, Length: 345, dtype: int64"
      ]
     },
     "execution_count": 67,
     "metadata": {},
     "output_type": "execute_result"
    }
   ],
   "source": [
    "y"
   ]
  },
  {
   "cell_type": "code",
   "execution_count": 68,
   "metadata": {},
   "outputs": [],
   "source": [
    "df_all['dynasty'] = clean_matrial_dynasty(df_all['dynasty'])"
   ]
  },
  {
   "cell_type": "code",
   "execution_count": 69,
   "metadata": {},
   "outputs": [
    {
     "data": {
      "text/plain": [
       "dynasty\n",
       "unknown                     5420\n",
       "dynasty 18                  3713\n",
       "dynasty 12                   955\n",
       "dynasty 12-13                928\n",
       "dynasty 21                   795\n",
       "                            ... \n",
       "late dynasty 12-early 13       1\n",
       "dynasty 23-26                  1\n",
       "dynasty 23-30                  1\n",
       "ptolemaic                      1\n",
       "13th                           1\n",
       "Name: count, Length: 270, dtype: int64"
      ]
     },
     "execution_count": 69,
     "metadata": {},
     "output_type": "execute_result"
    }
   ],
   "source": [
    "y = df_all[\"dynasty\"].value_counts()\n",
    "y.to_csv(\"frequency\\dynasty_trial2.csv\")\n",
    "y"
   ]
  },
  {
   "cell_type": "code",
   "execution_count": 70,
   "metadata": {},
   "outputs": [
    {
     "data": {
      "text/plain": [
       "<BarContainer object of 50 artists>"
      ]
     },
     "execution_count": 70,
     "metadata": {},
     "output_type": "execute_result"
    },
    {
     "data": {
      "image/png": "[encoded data removed]",
      "text/plain": [
       "<Figure size 1200x800 with 1 Axes>"
      ]
     },
     "metadata": {},
     "output_type": "display_data"
    }
   ],
   "source": [
    "yyy =df_all['dynasty'].value_counts()\n",
    "import matplotlib.pyplot as plt\n",
    "plt.figure(figsize=(12,8))\n",
    "plt.xticks(rotation=90)\n",
    "plt.bar(x = yyy.index[0:50] ,  height= yyy.values[0:50])"
   ]
  },
  {
   "cell_type": "markdown",
   "metadata": {},
   "source": [
    "### `7. location`"
   ]
  },
  {
   "cell_type": "code",
   "execution_count": 71,
   "metadata": {},
   "outputs": [
    {
     "data": {
      "text/plain": [
       "0        None\n",
       "1        None\n",
       "2        None\n",
       "3        None\n",
       "4        None\n",
       "         ... \n",
       "88731    None\n",
       "88732    None\n",
       "88733    None\n",
       "88734    None\n",
       "88735    None\n",
       "Name: location, Length: 88736, dtype: object"
      ]
     },
     "execution_count": 71,
     "metadata": {},
     "output_type": "execute_result"
    }
   ],
   "source": [
    "df_all[\"location\"]"
   ]
  },
  {
   "cell_type": "code",
   "execution_count": 72,
   "metadata": {},
   "outputs": [],
   "source": [
    "\n",
    "def clean_location(cell):\n",
    "    if cell is None:\n",
    "        return None  # Return None for NaN or None values\n",
    "\n",
    "    if isinstance(cell, list):\n",
    "        cell = str(cell)\n",
    "\n",
    "    # Remove occurrences of \"near\", \"probably\", \"possibly\"\n",
    "    cell = re.sub(r'\\b(?:near|probably|possibly)\\b', '', cell, flags=re.IGNORECASE)\n",
    "\n",
    "    # Remove brackets and their contents\n",
    "    cell = re.sub(r'\\[.*?\\]', '', cell)\n",
    "    cell = re.sub(r'\\{.*?\\}', '', cell)\n",
    "    cell = re.sub(r'\\(.*?\\)', '', cell)\n",
    "\n",
    "    # Remove double quotes\n",
    "    cell = cell.replace('\"', '')\n",
    "\n",
    "    # Remove extra spaces at the beginning and end\n",
    "    cell = cell.strip()\n",
    "\n",
    "    return cell\n",
    "  \n",
    "# Apply the function to the specified column\n",
    "df_all['location'] = df_all['location'].apply(clean_location)\n",
    "\n"
   ]
  },
  {
   "cell_type": "code",
   "execution_count": 73,
   "metadata": {},
   "outputs": [],
   "source": [
    "dd = df_all[\"location\"].value_counts()\n",
    "dd.to_csv(\"frequency\\location_trial2.csv\")"
   ]
  },
  {
   "cell_type": "code",
   "execution_count": 74,
   "metadata": {},
   "outputs": [
    {
     "data": {
      "text/plain": [
       "location\n",
       "                           15168\n",
       "unknown                     8052\n",
       "abydos                       528\n",
       "mirgissa                     516\n",
       "deir el-bahari               372\n",
       "                           ...  \n",
       "sakha                          1\n",
       "kom el-hisn                    1\n",
       "governorate of qena            1\n",
       "temple of amenhotep iii        1\n",
       "tafa                           1\n",
       "Name: count, Length: 213, dtype: int64"
      ]
     },
     "execution_count": 74,
     "metadata": {},
     "output_type": "execute_result"
    }
   ],
   "source": [
    "dd"
   ]
  },
  {
   "cell_type": "code",
   "execution_count": 75,
   "metadata": {},
   "outputs": [
    {
     "data": {
      "text/plain": [
       "<BarContainer object of 50 artists>"
      ]
     },
     "execution_count": 75,
     "metadata": {},
     "output_type": "execute_result"
    },
    {
     "data": {
      "image/png": "[encoded data removed]",
      "text/plain": [
       "<Figure size 1200x800 with 1 Axes>"
      ]
     },
     "metadata": {},
     "output_type": "display_data"
    }
   ],
   "source": [
    "xx =df_all['date'].value_counts()\n",
    "import matplotlib.pyplot as plt\n",
    "plt.figure(figsize=(12,8))\n",
    "plt.xticks(rotation=90)\n",
    "plt.bar(x = xx.index[0:50] ,  height= xx.values[0:50])"
   ]
  },
  {
   "cell_type": "markdown",
   "metadata": {},
   "source": [
    "### `8. period`"
   ]
  },
  {
   "cell_type": "code",
   "execution_count": 76,
   "metadata": {},
   "outputs": [
    {
     "data": {
      "text/plain": [
       "period\n",
       "[]                                                         3380\n",
       "late period                                                2052\n",
       "[Middle Kingdom]                                           1605\n",
       "new kingdom                                                1475\n",
       "unknown                                                    1438\n",
       "                                                           ... \n",
       "[reign of Akhenaten to Aya, New Kingdom, Amarna Period]       1\n",
       "[reign of Ptolemy II Philadelphos, Ptolemaic Period]          1\n",
       "[reign of Psamtik I, Late Antique]                            1\n",
       "[reign of Trajan, Roman Period, Trajan]                       1\n",
       "Coptic Byzantine                                              1\n",
       "Name: count, Length: 792, dtype: int64"
      ]
     },
     "execution_count": 76,
     "metadata": {},
     "output_type": "execute_result"
    }
   ],
   "source": [
    "df_all[\"period\"].value_counts()"
   ]
  },
  {
   "cell_type": "code",
   "execution_count": 77,
   "metadata": {},
   "outputs": [],
   "source": [
    "# Apply the function to the specified column\n",
    "def process_period(cell):\n",
    "    if isinstance(cell, list):\n",
    "        cell = ' '.join(map(str, cell))  # Convert list to string\n",
    "    if isinstance(cell, str):\n",
    "        # Remove brackets, double quotes, and make everything lowercase\n",
    "        cell = cell.replace('[', '')\n",
    "        cell = cell.replace(']', '')\n",
    "        cell = cell.replace('\"', '')\n",
    "        cell = cell.lower()\n",
    "        cell = cell.strip()\n",
    "    return cell\n",
    "\n",
    "# Apply the function to the specified column\n",
    "df_all['period'] = df_all['period'].apply(process_period)"
   ]
  },
  {
   "cell_type": "code",
   "execution_count": 78,
   "metadata": {},
   "outputs": [],
   "source": [
    "dd = df_all[\"period\"].value_counts()\n",
    "dd.to_csv(\"frequency\\period_trial2.csv\")"
   ]
  },
  {
   "cell_type": "code",
   "execution_count": 79,
   "metadata": {},
   "outputs": [
    {
     "data": {
      "text/plain": [
       "<BarContainer object of 50 artists>"
      ]
     },
     "execution_count": 79,
     "metadata": {},
     "output_type": "execute_result"
    },
    {
     "data": {
      "image/png": "[encoded data removed]",
      "text/plain": [
       "<Figure size 1200x800 with 1 Axes>"
      ]
     },
     "metadata": {},
     "output_type": "display_data"
    }
   ],
   "source": [
    "yx =df_all['period'].value_counts()\n",
    "import matplotlib.pyplot as plt\n",
    "plt.figure(figsize=(12,8))\n",
    "plt.xticks(rotation=90)\n",
    "plt.bar(x = yx.index[0:50] ,  height= yx.values[0:50])"
   ]
  },
  {
   "cell_type": "markdown",
   "metadata": {},
   "source": [
    "#### What is left \n",
    "1. normalize all the unkown => unknown, nan, '' , ? , uncertain etc. to all be the same\n",
    "2. combine the similar words into one further to decrease the classes"
   ]
  },
  {
   "cell_type": "code",
   "execution_count": 80,
   "metadata": {},
   "outputs": [],
   "source": [
    "# Select the row you want to duplicate (e.g., row with index 1)\n",
    "row_to_duplicate = df_all.loc[1]\n",
    "\n",
    "# Duplicate the selected row and modify something (e.g., change the name)\n",
    "duplicated_row = row_to_duplicate.copy()\n",
    "duplicated_row['path'] = 'bri_Y_EA9999-79.jpg'\n",
    "\n",
    "df_all = pd.concat([df_all, duplicated_row.to_frame().T], ignore_index=True)"
   ]
  },
  {
   "cell_type": "code",
   "execution_count": 81,
   "metadata": {},
   "outputs": [],
   "source": [
    "df_all.to_csv(\"trial_cleaning2.csv\")"
   ]
  },
  {
   "cell_type": "code",
   "execution_count": 82,
   "metadata": {},
   "outputs": [
    {
     "data": {
      "text/plain": [
       "88737"
      ]
     },
     "execution_count": 82,
     "metadata": {},
     "output_type": "execute_result"
    }
   ],
   "source": [
    "len(df_all)"
   ]
  },
  {
   "cell_type": "code",
   "execution_count": 83,
   "metadata": {},
   "outputs": [
    {
     "data": {
      "image/png": "[encoded data removed]",
      "text/plain": [
       "<Figure size 1200x800 with 1 Axes>"
      ]
     },
     "metadata": {},
     "output_type": "display_data"
    }
   ],
   "source": [
    "top30_material = print_value_count(df_all, \"material\", 30)"
   ]
  }
 ],
 "metadata": {
  "kernelspec": {
   "display_name": "Python 3",
   "language": "python",
   "name": "python3"
  },
  "language_info": {
   "codemirror_mode": {
    "name": "ipython",
    "version": 3
   },
   "file_extension": ".py",
   "mimetype": "text/x-python",
   "name": "python",
   "nbconvert_exporter": "python",
   "pygments_lexer": "ipython3",
   "version": "3.11.6"
  }
 },
 "nbformat": 4,
 "nbformat_minor": 2
}
