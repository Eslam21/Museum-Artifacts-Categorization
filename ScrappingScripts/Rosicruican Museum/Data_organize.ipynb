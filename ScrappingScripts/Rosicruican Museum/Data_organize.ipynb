{
 "cells": [
  {
   "cell_type": "code",
   "execution_count": 1,
   "metadata": {},
   "outputs": [],
   "source": [
    "import pandas as pd \n",
    "import numpy as np\n",
    "import seaborn as sn\n",
    "import matplotlib.pyplot as pl\n",
    "import scipy as sp"
   ]
  },
  {
   "cell_type": "code",
   "execution_count": 31,
   "metadata": {},
   "outputs": [],
   "source": [
    "import json\n",
    "import pandas as pd\n",
    "data = json.load(open('data.json',encoding=\"utf8\"))\n",
    "\n",
    "df= pd.DataFrame(data['PageResult']['Items'])[['Id','Title','AdditionalInfo', 'ImageId']]"
   ]
  },
  {
   "cell_type": "code",
   "execution_count": 36,
   "metadata": {},
   "outputs": [
    {
     "data": {
      "text/html": [
       "<div>\n",
       "<style scoped>\n",
       "    .dataframe tbody tr th:only-of-type {\n",
       "        vertical-align: middle;\n",
       "    }\n",
       "\n",
       "    .dataframe tbody tr th {\n",
       "        vertical-align: top;\n",
       "    }\n",
       "\n",
       "    .dataframe thead th {\n",
       "        text-align: right;\n",
       "    }\n",
       "</style>\n",
       "<table border=\"1\" class=\"dataframe\">\n",
       "  <thead>\n",
       "    <tr style=\"text-align: right;\">\n",
       "      <th></th>\n",
       "      <th>Id</th>\n",
       "      <th>Title</th>\n",
       "      <th>AdditionalInfo</th>\n",
       "      <th>ImageId</th>\n",
       "    </tr>\n",
       "  </thead>\n",
       "  <tbody>\n",
       "    <tr>\n",
       "      <th>0</th>\n",
       "      <td>3</td>\n",
       "      <td>RC-1 - Sekhmet Statue</td>\n",
       "      <td>Sekhmet was the lion-headed goddess of warfare...</td>\n",
       "      <td>789</td>\n",
       "    </tr>\n",
       "    <tr>\n",
       "      <th>1</th>\n",
       "      <td>4</td>\n",
       "      <td>RC-2 - Harpocrates</td>\n",
       "      <td>Seated with His Right Forefinger Pointing To H...</td>\n",
       "      <td>931</td>\n",
       "    </tr>\n",
       "    <tr>\n",
       "      <th>2</th>\n",
       "      <td>5</td>\n",
       "      <td>RC-3 - Osiris</td>\n",
       "      <td>Holding Crook and Flail</td>\n",
       "      <td>365</td>\n",
       "    </tr>\n",
       "    <tr>\n",
       "      <th>3</th>\n",
       "      <td>6</td>\n",
       "      <td>RC-4 - Khonsu</td>\n",
       "      <td>Black</td>\n",
       "      <td>774</td>\n",
       "    </tr>\n",
       "    <tr>\n",
       "      <th>4</th>\n",
       "      <td>7</td>\n",
       "      <td>RC-5 - Apis Bull</td>\n",
       "      <td>H-12.2</td>\n",
       "      <td>913</td>\n",
       "    </tr>\n",
       "    <tr>\n",
       "      <th>...</th>\n",
       "      <td>...</td>\n",
       "      <td>...</td>\n",
       "      <td>...</td>\n",
       "      <td>...</td>\n",
       "    </tr>\n",
       "    <tr>\n",
       "      <th>819</th>\n",
       "      <td>5460</td>\n",
       "      <td>RC-297 - Ptah</td>\n",
       "      <td>H-15.9</td>\n",
       "      <td>221</td>\n",
       "    </tr>\n",
       "    <tr>\n",
       "      <th>820</th>\n",
       "      <td>5548</td>\n",
       "      <td>RC-251 - Rameses Ii Cartouche Fragment</td>\n",
       "      <td>Pinkish-Red/ Black/ Brown/ Red/ Dk Brown/ Off ...</td>\n",
       "      <td>64</td>\n",
       "    </tr>\n",
       "    <tr>\n",
       "      <th>821</th>\n",
       "      <td>5550</td>\n",
       "      <td>RC-1727 - False Door with Ibis</td>\n",
       "      <td>Grey/ Light Brown/ Dark Brown/ White&lt;br /&gt;&lt;br ...</td>\n",
       "      <td>536</td>\n",
       "    </tr>\n",
       "    <tr>\n",
       "      <th>822</th>\n",
       "      <td>5560</td>\n",
       "      <td>RC-5187 - Scarab</td>\n",
       "      <td>Green Faience.</td>\n",
       "      <td>863</td>\n",
       "    </tr>\n",
       "    <tr>\n",
       "      <th>823</th>\n",
       "      <td>5565</td>\n",
       "      <td>RC-5195 - Wedjat Eye</td>\n",
       "      <td>Yellow faience glazed wedjat eye.  Brown brow ...</td>\n",
       "      <td>337</td>\n",
       "    </tr>\n",
       "  </tbody>\n",
       "</table>\n",
       "<p>824 rows × 4 columns</p>\n",
       "</div>"
      ],
      "text/plain": [
       "       Id                                   Title  \\\n",
       "0       3                   RC-1 - Sekhmet Statue   \n",
       "1       4                      RC-2 - Harpocrates   \n",
       "2       5                           RC-3 - Osiris   \n",
       "3       6                           RC-4 - Khonsu   \n",
       "4       7                        RC-5 - Apis Bull   \n",
       "..    ...                                     ...   \n",
       "819  5460                           RC-297 - Ptah   \n",
       "820  5548  RC-251 - Rameses Ii Cartouche Fragment   \n",
       "821  5550          RC-1727 - False Door with Ibis   \n",
       "822  5560                        RC-5187 - Scarab   \n",
       "823  5565                    RC-5195 - Wedjat Eye   \n",
       "\n",
       "                                        AdditionalInfo ImageId  \n",
       "0    Sekhmet was the lion-headed goddess of warfare...     789  \n",
       "1    Seated with His Right Forefinger Pointing To H...     931  \n",
       "2                              Holding Crook and Flail     365  \n",
       "3                                                Black     774  \n",
       "4                                               H-12.2     913  \n",
       "..                                                 ...     ...  \n",
       "819                                             H-15.9     221  \n",
       "820  Pinkish-Red/ Black/ Brown/ Red/ Dk Brown/ Off ...      64  \n",
       "821  Grey/ Light Brown/ Dark Brown/ White<br /><br ...     536  \n",
       "822                                     Green Faience.     863  \n",
       "823  Yellow faience glazed wedjat eye.  Brown brow ...     337  \n",
       "\n",
       "[824 rows x 4 columns]"
      ]
     },
     "execution_count": 36,
     "metadata": {},
     "output_type": "execute_result"
    }
   ],
   "source": [
    "df"
   ]
  },
  {
   "cell_type": "code",
   "execution_count": 171,
   "metadata": {},
   "outputs": [],
   "source": [
    "metadata = json.load(open('data/443.json',encoding=\"utf8\"))\n"
   ]
  },
  {
   "cell_type": "code",
   "execution_count": 172,
   "metadata": {},
   "outputs": [
    {
     "data": {
      "text/plain": [
       "'RC-478 - Plaque'"
      ]
     },
     "execution_count": 172,
     "metadata": {},
     "output_type": "execute_result"
    }
   ],
   "source": [
    "metadata['Title']"
   ]
  },
  {
   "cell_type": "code",
   "execution_count": 173,
   "metadata": {},
   "outputs": [
    {
     "data": {
      "text/plain": [
       "'Mesopotamian'"
      ]
     },
     "execution_count": 173,
     "metadata": {},
     "output_type": "execute_result"
    }
   ],
   "source": [
    "metadata['Item']['CatalogItemArt']['Culture']['Title']"
   ]
  },
  {
   "cell_type": "code",
   "execution_count": 174,
   "metadata": {},
   "outputs": [
    {
     "data": {
      "text/plain": [
       "'Terracotta'"
      ]
     },
     "execution_count": 174,
     "metadata": {},
     "output_type": "execute_result"
    }
   ],
   "source": [
    "metadata['Item']['CatalogItemHistory']['CatalogItemHistoryMaterials'][0]['DictionaryItem']['Title']"
   ]
  },
  {
   "cell_type": "code",
   "execution_count": 179,
   "metadata": {},
   "outputs": [
    {
     "ename": "IndexError",
     "evalue": "list index out of range",
     "output_type": "error",
     "traceback": [
      "\u001b[1;31m---------------------------------------------------------------------------\u001b[0m",
      "\u001b[1;31mIndexError\u001b[0m                                Traceback (most recent call last)",
      "\u001b[1;32mg:\\Material\\NU Material\\Senior\\Machine Intelligence\\Project\\Rosicruican Museum\\Data.ipynb Cell 8\u001b[0m line \u001b[0;36m1\n\u001b[1;32m----> <a href='vscode-notebook-cell:/g%3A/Material/NU%20Material/Senior/Machine%20Intelligence/Project/Rosicruican%20Museum/Data.ipynb#X15sZmlsZQ%3D%3D?line=0'>1</a>\u001b[0m metadata[\u001b[39m'\u001b[39;49m\u001b[39mItem\u001b[39;49m\u001b[39m'\u001b[39;49m][\u001b[39m'\u001b[39;49m\u001b[39mCatalogItemTags\u001b[39;49m\u001b[39m'\u001b[39;49m][\u001b[39m0\u001b[39;49m]\n",
      "\u001b[1;31mIndexError\u001b[0m: list index out of range"
     ]
    }
   ],
   "source": [
    "metadata['Item']['CatalogItemTags'][0]['DictionaryItem']['Title']"
   ]
  },
  {
   "cell_type": "code",
   "execution_count": 129,
   "metadata": {},
   "outputs": [
    {
     "data": {
      "text/plain": [
       "'525 - 343 BCE'"
      ]
     },
     "execution_count": 129,
     "metadata": {},
     "output_type": "execute_result"
    }
   ],
   "source": [
    "metadata['Item']['CreationDate']"
   ]
  },
  {
   "cell_type": "code",
   "execution_count": 130,
   "metadata": {},
   "outputs": [
    {
     "name": "stdout",
     "output_type": "stream",
     "text": [
      "Period\n",
      "Late Period\n"
     ]
    }
   ],
   "source": [
    "print(metadata['Item']['CustomFields'][0]['Metadata']['Name'])\n",
    "print(metadata['Item']['CustomFields'][0]['StringValue'])\n"
   ]
  },
  {
   "cell_type": "code",
   "execution_count": 143,
   "metadata": {},
   "outputs": [],
   "source": [
    "new_data = {\"Title\":[], \"Culture\":[],\"Date\":[],\"Period\":[],\"Material\":[],\"object_Type\":[]}"
   ]
  },
  {
   "cell_type": "code",
   "execution_count": 223,
   "metadata": {},
   "outputs": [],
   "source": [
    "new_data = {\"Title\":[], \"Culture\":[],\"Date\":[],\"Period\":[],\"Material\":[],\"object_Type\":[]}\n",
    "for index, row in df.iterrows():\n",
    "    metadata = json.load(open(f'data/{row.Id}.json',encoding=\"utf8\"))\n",
    "    \n",
    "    \n",
    "    new_data['Title'].append(metadata['Title'])\n",
    "    \n",
    "    if metadata['Item']['CatalogItemArt']['Culture'] == None:\n",
    "        new_data['Culture'].append(None)\n",
    "    else:\n",
    "        new_data['Culture'].append(metadata['Item']['CatalogItemArt']['Culture']['Title'])\n",
    "        \n",
    "    new_data['Date'].append(metadata['Item']['CreationDate'])\n",
    "    if metadata['Item']['CatalogItemHistory']['CatalogItemHistoryMaterials'] == []:\n",
    "         new_data['Material'].append(None)\n",
    "    else: \n",
    "        new_data['Material'].append(metadata['Item']['CatalogItemHistory']['CatalogItemHistoryMaterials'][0]['DictionaryItem']['Title'])\n",
    "        \n",
    "    new_data['Period'].append(metadata['Item']['CustomFields'][0]['StringValue'])\n",
    "    if metadata['Item']['CatalogItemTags'] ==[]:\n",
    "        new_data['object_Type'].append(None)\n",
    "    else:\n",
    "        new_data['object_Type'].append(metadata['Item']['CatalogItemTags'][0]['DictionaryItem']['Title'])\n",
    "    "
   ]
  },
  {
   "cell_type": "code",
   "execution_count": 224,
   "metadata": {},
   "outputs": [
    {
     "data": {
      "text/plain": [
       "824"
      ]
     },
     "execution_count": 224,
     "metadata": {},
     "output_type": "execute_result"
    }
   ],
   "source": [
    "len(new_data['Culture'])"
   ]
  },
  {
   "cell_type": "code",
   "execution_count": 230,
   "metadata": {},
   "outputs": [
    {
     "data": {
      "text/html": [
       "<div>\n",
       "<style scoped>\n",
       "    .dataframe tbody tr th:only-of-type {\n",
       "        vertical-align: middle;\n",
       "    }\n",
       "\n",
       "    .dataframe tbody tr th {\n",
       "        vertical-align: top;\n",
       "    }\n",
       "\n",
       "    .dataframe thead th {\n",
       "        text-align: right;\n",
       "    }\n",
       "</style>\n",
       "<table border=\"1\" class=\"dataframe\">\n",
       "  <thead>\n",
       "    <tr style=\"text-align: right;\">\n",
       "      <th></th>\n",
       "      <th>Title</th>\n",
       "      <th>Culture</th>\n",
       "      <th>Date</th>\n",
       "      <th>Period</th>\n",
       "      <th>Material</th>\n",
       "      <th>object_Type</th>\n",
       "    </tr>\n",
       "  </thead>\n",
       "  <tbody>\n",
       "    <tr>\n",
       "      <th>0</th>\n",
       "      <td>RC-1 - Sekhmet Statue</td>\n",
       "      <td>Egyptian</td>\n",
       "      <td>332-30 BCE</td>\n",
       "      <td>Ptolemaic</td>\n",
       "      <td>Bronze</td>\n",
       "      <td>Sculpture</td>\n",
       "    </tr>\n",
       "    <tr>\n",
       "      <th>1</th>\n",
       "      <td>RC-2 - Harpocrates</td>\n",
       "      <td>Egyptian</td>\n",
       "      <td>305 - 30 BCE</td>\n",
       "      <td>Ptolemaic</td>\n",
       "      <td>Bronze</td>\n",
       "      <td>Sculpture</td>\n",
       "    </tr>\n",
       "    <tr>\n",
       "      <th>2</th>\n",
       "      <td>RC-3 - Osiris</td>\n",
       "      <td>Egyptian</td>\n",
       "      <td>332 - 31 BCE</td>\n",
       "      <td>Ptolemaic</td>\n",
       "      <td>Bronze</td>\n",
       "      <td>Sculpture</td>\n",
       "    </tr>\n",
       "    <tr>\n",
       "      <th>3</th>\n",
       "      <td>RC-4 - Khonsu</td>\n",
       "      <td>Egyptian</td>\n",
       "      <td>332 - 30 BCE</td>\n",
       "      <td>Ptolemaic</td>\n",
       "      <td>Bronze</td>\n",
       "      <td>Sculpture</td>\n",
       "    </tr>\n",
       "    <tr>\n",
       "      <th>4</th>\n",
       "      <td>RC-5 - Apis Bull</td>\n",
       "      <td>Egyptian</td>\n",
       "      <td>525 - 343 BCE</td>\n",
       "      <td>Late Period</td>\n",
       "      <td>Bronze</td>\n",
       "      <td>Sculpture</td>\n",
       "    </tr>\n",
       "  </tbody>\n",
       "</table>\n",
       "</div>"
      ],
      "text/plain": [
       "                   Title   Culture           Date       Period Material  \\\n",
       "0  RC-1 - Sekhmet Statue  Egyptian     332-30 BCE    Ptolemaic   Bronze   \n",
       "1     RC-2 - Harpocrates  Egyptian   305 - 30 BCE    Ptolemaic   Bronze   \n",
       "2          RC-3 - Osiris  Egyptian   332 - 31 BCE    Ptolemaic   Bronze   \n",
       "3          RC-4 - Khonsu  Egyptian   332 - 30 BCE    Ptolemaic   Bronze   \n",
       "4       RC-5 - Apis Bull  Egyptian  525 - 343 BCE  Late Period   Bronze   \n",
       "\n",
       "  object_Type  \n",
       "0   Sculpture  \n",
       "1   Sculpture  \n",
       "2   Sculpture  \n",
       "3   Sculpture  \n",
       "4   Sculpture  "
      ]
     },
     "execution_count": 230,
     "metadata": {},
     "output_type": "execute_result"
    }
   ],
   "source": [
    "new_data=pd.DataFrame(new_data)\n",
    "new_data.head()"
   ]
  },
  {
   "cell_type": "code",
   "execution_count": 238,
   "metadata": {},
   "outputs": [
    {
     "data": {
      "text/plain": [
       "Culture\n",
       "Egyptian        733\n",
       "Mesopotamian     77\n",
       "Oriental          3\n",
       "Greek             1\n",
       "Name: count, dtype: int64"
      ]
     },
     "execution_count": 238,
     "metadata": {},
     "output_type": "execute_result"
    }
   ],
   "source": [
    "new_data['Culture'].value_counts()"
   ]
  },
  {
   "cell_type": "code",
   "execution_count": null,
   "metadata": {},
   "outputs": [],
   "source": []
  }
 ],
 "metadata": {
  "kernelspec": {
   "display_name": "Python 3",
   "language": "python",
   "name": "python3"
  },
  "language_info": {
   "codemirror_mode": {
    "name": "ipython",
    "version": 3
   },
   "file_extension": ".py",
   "mimetype": "text/x-python",
   "name": "python",
   "nbconvert_exporter": "python",
   "pygments_lexer": "ipython3",
   "version": "3.10.11"
  }
 },
 "nbformat": 4,
 "nbformat_minor": 2
}
